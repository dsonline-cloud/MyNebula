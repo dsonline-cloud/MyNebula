{
 "cells": [
  {
   "cell_type": "markdown",
   "metadata": {},
   "source": [
    "**Question No.1** Write a Python program to find words which are greater than given length k?"
   ]
  },
  {
   "cell_type": "code",
   "execution_count": 2,
   "metadata": {},
   "outputs": [
    {
     "name": "stdout",
     "output_type": "stream",
     "text": [
      "['deserve']\n"
     ]
    }
   ],
   "source": [
    "# **Ans**\n",
    "\n",
    "\n",
    "def string_islarger(k, str):\n",
    "     \n",
    "    # create the empty string\n",
    "    string = []\n",
    "     \n",
    "    # split the string where space is comes\n",
    "    text = str.split(\" \")\n",
    "     \n",
    "    # iterate the loop till every substring\n",
    "    for x in text:\n",
    "         \n",
    "        # if length of current sub string is greater than k then.\n",
    "        if len(x) > k:\n",
    "             \n",
    "            # append this sub string in string list.\n",
    "            string.append(x)\n",
    "             \n",
    "     # return string list\n",
    "    return string\n",
    " \n",
    " \n",
    "   \n",
    "k = 4\n",
    "str =\"The good days will come if you deserve it.\"\n",
    "print(string_islarger(k, str))"
   ]
  },
  {
   "cell_type": "markdown",
   "metadata": {},
   "source": [
    "**Question No.2** Write a Python program for removing i-th character from a string"
   ]
  },
  {
   "cell_type": "code",
   "execution_count": 8,
   "metadata": {},
   "outputs": [
    {
     "name": "stdout",
     "output_type": "stream",
     "text": [
      "Lnnisters\n"
     ]
    }
   ],
   "source": [
    "# **Ans**\n",
    "\n",
    "def remove(string, i): \n",
    "  \n",
    "    for j in range(len(string)):\n",
    "        if j == i:\n",
    "            string = string.replace(string[i], \"\", 1)\n",
    "    return string\n",
    "      \n",
    "string = \"Lannisters\"\n",
    "      \n",
    "i = 1\n",
    "    \n",
    "print(remove(string, i))"
   ]
  },
  {
   "cell_type": "markdown",
   "metadata": {},
   "source": [
    "**Question No.3** Write a Python program to split and join a string?"
   ]
  },
  {
   "cell_type": "code",
   "execution_count": 9,
   "metadata": {},
   "outputs": [
    {
     "name": "stdout",
     "output_type": "stream",
     "text": [
      "['Tyrion', 'Lannister', 'was', 'good.']\n",
      "Tyrion-Lannister-was-good.\n"
     ]
    }
   ],
   "source": [
    "# **Ans**\n",
    "\n",
    "def split_string(string):\n",
    "  \n",
    "    # Split the string based on space delimiter\n",
    "    list_string = string.split(' ')\n",
    "      \n",
    "    return list_string\n",
    "  \n",
    "def join_string(list_string):\n",
    "  \n",
    "    # Join the string based on '-' delimiter\n",
    "    string = '-'.join(list_string)\n",
    "      \n",
    "    return string\n",
    "  \n",
    "\n",
    "string = 'Tyrion Lannister was good.'\n",
    "\n",
    "# Splitting a string\n",
    "list_string = split_string(string)\n",
    "print(list_string)\n",
    "  \n",
    "# Join list of strings into one\n",
    "new_string = join_string(list_string)\n",
    "print(new_string)"
   ]
  },
  {
   "cell_type": "markdown",
   "metadata": {},
   "source": [
    "**Question No.4** Write a Python to check if a given string is binary string or not?"
   ]
  },
  {
   "cell_type": "code",
   "execution_count": 11,
   "metadata": {},
   "outputs": [
    {
     "name": "stdout",
     "output_type": "stream",
     "text": [
      "Yes\n"
     ]
    }
   ],
   "source": [
    "# **Ans**\n",
    "\n",
    "def check(string) :\n",
    "  \n",
    "    # set function convert string into set of characters .\n",
    "    p = set(string)\n",
    "  \n",
    "    # declare set of '0', '1' .\n",
    "    s = {'0', '1'}\n",
    "  \n",
    "    # check set p is same as set s or set p contains only '0' or set p contains only '1' or not, if any one condition\n",
    "    # is true then string is accepted\n",
    "    # otherwise not .\n",
    "    if s == p or p == {'0'} or p == {'1'}:\n",
    "        print(\"Yes\")\n",
    "    else :\n",
    "        print(\"No\")\n",
    "  \n",
    "  \n",
    "          \n",
    "  \n",
    "string = \"101010000111\"\n",
    "  \n",
    "check(string)"
   ]
  },
  {
   "cell_type": "markdown",
   "metadata": {},
   "source": [
    "**Question No.5** Write a Python program to find uncommon words from two Strings?"
   ]
  },
  {
   "cell_type": "code",
   "execution_count": 13,
   "metadata": {},
   "outputs": [
    {
     "name": "stdout",
     "output_type": "stream",
     "text": [
      "['charater', 'in', 'GOT.', 'a', 'smart', 'and', 'wise', 'character.']\n"
     ]
    }
   ],
   "source": [
    "# **Ans**\n",
    "\n",
    "def UncommonWords(A, B):\n",
    "  \n",
    "    # count will contain all the word counts\n",
    "    count = {}\n",
    "      \n",
    "    # insert words of string A to hash\n",
    "    for word in A.split():\n",
    "        count[word] = count.get(word, 0) + 1\n",
    "      \n",
    "    # insert words of string B to hash\n",
    "    for word in B.split():\n",
    "        count[word] = count.get(word, 0) + 1\n",
    "  \n",
    "    # return required list of words\n",
    "    return [word for word in count if count[word] == 1]\n",
    "\n",
    "A = \"Tyrion Lannister is charater in GOT.\"\n",
    "B = \"Tyrion Lannister is a smart and wise character.\"\n",
    "  \n",
    "print(UncommonWords(A, B))"
   ]
  },
  {
   "cell_type": "markdown",
   "metadata": {},
   "source": [
    "**Question No.6** Write a Python to find all duplicate characters in string?"
   ]
  },
  {
   "cell_type": "code",
   "execution_count": 19,
   "metadata": {},
   "outputs": [
    {
     "name": "stdout",
     "output_type": "stream",
     "text": [
      "['e', ' ', 'c']\n"
     ]
    }
   ],
   "source": [
    "# **Ans**\n",
    "\n",
    "string = \"The cycles of Yuga\"\n",
    "\n",
    "duplicates = []\n",
    "for char in string:\n",
    "   ## checking whether the character have a duplicate or not, str.count(char) returns the frequency of a char in the str\n",
    "   if string.count(char) > 1:\n",
    "     ## appending to the list if it's already not present     \n",
    "        if char not in duplicates:\n",
    "            duplicates.append(char)\n",
    "\n",
    "print(duplicates)"
   ]
  },
  {
   "cell_type": "markdown",
   "metadata": {},
   "source": [
    "**Question No.7**  Write a Python Program to check if a string contains any special character?"
   ]
  },
  {
   "cell_type": "code",
   "execution_count": 25,
   "metadata": {},
   "outputs": [
    {
     "name": "stdout",
     "output_type": "stream",
     "text": [
      "The string you entered has special charaters.\n"
     ]
    }
   ],
   "source": [
    "# **Ans**\n",
    "\n",
    "import re\n",
    "  \n",
    "\n",
    "def run(string):\n",
    "  \n",
    "    # Make own character set and pass \n",
    "    # this as argument in compile method\n",
    "    regex = re.compile('[@_!#$%^&*()<>?/\\|}{~:]')\n",
    "      \n",
    "    # Pass the string in search method of regex object.    \n",
    "    if(regex.search(string) == None):\n",
    "        print(\"The string you entered does not have special characters.\")\n",
    "          \n",
    "    else:\n",
    "        print(\"The string you entered has special charaters.\")\n",
    "      \n",
    "  \n",
    "\n",
    "      \n",
    "    \n",
    "string = \"I love dollars $$$$\"\n",
    "      \n",
    "    \n",
    "run(string)"
   ]
  }
 ],
 "metadata": {
  "kernelspec": {
   "display_name": "Python 3",
   "language": "python",
   "name": "python3"
  },
  "language_info": {
   "codemirror_mode": {
    "name": "ipython",
    "version": 3
   },
   "file_extension": ".py",
   "mimetype": "text/x-python",
   "name": "python",
   "nbconvert_exporter": "python",
   "pygments_lexer": "ipython3",
   "version": "3.8.5"
  }
 },
 "nbformat": 4,
 "nbformat_minor": 4
}
