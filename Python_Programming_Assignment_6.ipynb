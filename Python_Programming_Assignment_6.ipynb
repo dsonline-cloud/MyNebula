{
 "cells": [
  {
   "cell_type": "markdown",
   "metadata": {},
   "source": [
    "**Question No.1** Write a Python Program to Display Fibonacci Sequence Using Recursion?"
   ]
  },
  {
   "cell_type": "code",
   "execution_count": 2,
   "metadata": {},
   "outputs": [
    {
     "name": "stdout",
     "output_type": "stream",
     "text": [
      "Fibonacci sequence:\n",
      "0\n",
      "1\n",
      "1\n",
      "2\n",
      "3\n",
      "5\n",
      "8\n",
      "13\n",
      "21\n",
      "34\n"
     ]
    }
   ],
   "source": [
    "#**Ans**\n",
    "\n",
    "def recursive_fibo(x):\n",
    "   if x <= 1:\n",
    "       return x\n",
    "   else:\n",
    "       return(recursive_fibo(x-1) + recursive_fibo(x-2))\n",
    "\n",
    "nterms = 10\n",
    "\n",
    "# check if the number of terms is valid\n",
    "if nterms <= 0:\n",
    "   print(\"Plese enter a positive integer\")\n",
    "else:\n",
    "   print(\"Fibonacci sequence:\")\n",
    "   for i in range(nterms):\n",
    "       print(recursive_fibo(i))\n"
   ]
  },
  {
   "cell_type": "markdown",
   "metadata": {},
   "source": [
    "**Question No.2** Write a Python Program to Find Factorial of Number Using Recursion?"
   ]
  },
  {
   "cell_type": "code",
   "execution_count": 3,
   "metadata": {},
   "outputs": [
    {
     "name": "stdout",
     "output_type": "stream",
     "text": [
      "The factorial of 5 is 120\n"
     ]
    }
   ],
   "source": [
    "#**Ans**\n",
    "\n",
    "def recur_factorial(n):\n",
    "   if n == 1:\n",
    "       return n\n",
    "   else:\n",
    "       return n*recur_factorial(n-1)\n",
    "\n",
    "num = 5\n",
    "\n",
    "# check if the number is negative\n",
    "if num < 0:\n",
    "   print(\"Sorry, factorial does not exist for negative numbers\")\n",
    "elif num == 0:\n",
    "   print(\"The factorial of 0 is 1\")\n",
    "else:\n",
    "   print(\"The factorial of\", num, \"is\", recur_factorial(num))"
   ]
  },
  {
   "cell_type": "markdown",
   "metadata": {},
   "source": [
    "**Question No.3** Write a Python Program to calculate your Body Mass Index?"
   ]
  },
  {
   "cell_type": "code",
   "execution_count": 9,
   "metadata": {},
   "outputs": [
    {
     "name": "stdout",
     "output_type": "stream",
     "text": [
      "Enter your height in Meters: 1.75\n",
      "Enter your weight in Kg: 80\n",
      "Your Body Mass Index is:  26.122448979591837\n"
     ]
    }
   ],
   "source": [
    "# **Ans**\n",
    "\n",
    "#Program to find BMI.\n",
    " \n",
    " \n",
    "\n",
    "height  = float(input(\"Enter your height in Meters: \"))\n",
    "weight  = float(input(\"Enter your weight in Kg: \"))\n",
    "\n",
    "bmi = weight / (height**2)\n",
    " \n",
    "#Display the result\n",
    "print(\"Your Body Mass Index is: \", bmi)"
   ]
  },
  {
   "cell_type": "markdown",
   "metadata": {},
   "source": [
    "**Question No.4** Write a Python Program to calculate the natural logarithm of any number?"
   ]
  },
  {
   "cell_type": "code",
   "execution_count": 10,
   "metadata": {},
   "outputs": [
    {
     "name": "stdout",
     "output_type": "stream",
     "text": [
      "Natural logarithm of 14 is : 2.6390573296152584\n",
      "Logarithm base 5 of 14 is : 1.6397385131955606\n"
     ]
    }
   ],
   "source": [
    "# **Ans**\n",
    "  \n",
    "import math\n",
    "  \n",
    "# Printing the log base e of 14\n",
    "print (\"Natural logarithm of 14 is : \", end=\"\")\n",
    "print (math.log(14))\n",
    "  \n",
    "# Printing the log base 5 of 14\n",
    "print (\"Logarithm base 5 of 14 is : \", end=\"\")\n",
    "print (math.log(14,5))"
   ]
  },
  {
   "cell_type": "markdown",
   "metadata": {},
   "source": [
    "**Question No.5** Write a Python Program for cube sum of first n natural numbers?"
   ]
  },
  {
   "cell_type": "code",
   "execution_count": 11,
   "metadata": {},
   "outputs": [
    {
     "name": "stdout",
     "output_type": "stream",
     "text": [
      "225\n"
     ]
    }
   ],
   "source": [
    "# **Ans**\n",
    "  \n",
    "# Returns the sum of series \n",
    "def naturalSeries(n):\n",
    "    sum = 0\n",
    "    for i in range(1, n+1):\n",
    "        sum +=i*i*i\n",
    "          \n",
    "    return sum\n",
    "  \n",
    "   \n",
    "# Driver Function\n",
    "n = 5\n",
    "print(naturalSeries(n))\n",
    "  "
   ]
  }
 ],
 "metadata": {
  "kernelspec": {
   "display_name": "Python 3",
   "language": "python",
   "name": "python3"
  },
  "language_info": {
   "codemirror_mode": {
    "name": "ipython",
    "version": 3
   },
   "file_extension": ".py",
   "mimetype": "text/x-python",
   "name": "python",
   "nbconvert_exporter": "python",
   "pygments_lexer": "ipython3",
   "version": "3.8.5"
  }
 },
 "nbformat": 4,
 "nbformat_minor": 4
}
