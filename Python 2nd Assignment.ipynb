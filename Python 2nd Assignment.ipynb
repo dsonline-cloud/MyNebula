{
 "cells": [
  {
   "cell_type": "markdown",
   "metadata": {},
   "source": [
    "**Question No. 1** What are the two values of the Boolean data type? How do you write them?"
   ]
  },
  {
   "cell_type": "markdown",
   "metadata": {},
   "source": [
    "**Answer**\n",
    "\n",
    "The two boolean values are true and false. Boolean is named after the British mathematician, George Boole, who first formulated Boolean algebra — some rules for reasoning about and combining these values. This is the basis of all modern computer logic.\n",
    "\n",
    "Basically, in Python, the two Boolean values are True and False (the capitalization must be exactly as shown), and the Python type is bool.\n",
    "\n",
    "For ex- \n",
    "1. a = 5 ,b = 10, print(bool( a==b)) (This will produce the 'False' value of boolean)."
   ]
  },
  {
   "cell_type": "markdown",
   "metadata": {},
   "source": [
    "**Question No. 2** What are the three different types of Boolean operators?"
   ]
  },
  {
   "cell_type": "markdown",
   "metadata": {},
   "source": [
    "**Answer**\n",
    "\n",
    "Three different types of boolean operators are:\n",
    "1. and = Returns True value if both conditions are true.\n",
    "2. or = Return True value if one of the conditions are true.\n",
    "3. not = Returns the opposite value.\n",
    "\n",
    "for ex- \n",
    "1. a= 5, print(bool(a>4 and a<9)),  It will return True becuase both statements are true.\n",
    "2. a= 52, print(bool(a>50 or a<50)), It will also return True because one of the statement is true.\n",
    "3. a= 30, print(not(a>30 or a<30)), It will return the opposite value, True will become false in this case."
   ]
  },
  {
   "cell_type": "code",
   "execution_count": null,
   "metadata": {},
   "outputs": [],
   "source": [
    "a= 5 \n",
    "\n",
    "print(bool(a>4 and a<9))"
   ]
  },
  {
   "cell_type": "code",
   "execution_count": null,
   "metadata": {},
   "outputs": [],
   "source": [
    "a= 52\n",
    "print(bool(a>50 or a<50))"
   ]
  },
  {
   "cell_type": "code",
   "execution_count": null,
   "metadata": {},
   "outputs": [],
   "source": [
    "a= 52\n",
    "    \n",
    "print(not(a>50 or a<50))"
   ]
  },
  {
   "cell_type": "markdown",
   "metadata": {},
   "source": [
    "**Question No. 3** Make a list of each Boolean operator's truth tables (i.e. every possible combination of Boolean values for the operator and what it evaluate )."
   ]
  },
  {
   "cell_type": "markdown",
   "metadata": {},
   "source": [
    "**Answer**\n",
    "\n",
    "1. 'and' operators truth table.\n",
    "| First Operand | Second Operand | Result |\n",
    "| --- | --- | --- |\n",
    "| True | True | True |\n",
    "| True | False | False |\n",
    "| False | True | False |\n",
    "| False | False | False |\n",
    "\n",
    "2. 'or' operators truth table.\n",
    "| First Operand | Second Operand | Result |\n",
    "| --- | --- | --- |\n",
    "| True | True | True |\n",
    "| True | False | True |\n",
    "| False | True | True |\n",
    "| False | False | False |\n",
    "\n",
    "3. 'not' operators truth table.\n",
    "| First Operand | Result |\n",
    "| --- | --- |\n",
    "| True | False |\n",
    "| False | True |"
   ]
  },
  {
   "cell_type": "markdown",
   "metadata": {},
   "source": [
    "**Question No. 4** 4. What are the values of the following expressions?\n",
    "\n",
    "1. (5 > 4) and (3 == 5)\n",
    "2. not (5 > 4)\n",
    "3. (5 > 4) or (3 == 5)\n",
    "4. not ((5 > 4) or (3 == 5))\n",
    "5. (True and True) and (True == False)\n",
    "6. (not False) or (not True)\n"
   ]
  },
  {
   "cell_type": "markdown",
   "metadata": {},
   "source": [
    "**Answer**\n",
    "\n",
    "1. (5 > 4) and (3 == 5)                = True\n",
    "2. not (5 > 4)                         = False\n",
    "3. (5 > 4) or (3 == 5)                 = True\n",
    "4. not ((5 > 4) or (3 == 5))           = False\n",
    "5. (True and True) and (True == False) = False\n",
    "6. (not False) or (not True)           = True"
   ]
  },
  {
   "cell_type": "code",
   "execution_count": null,
   "metadata": {},
   "outputs": [],
   "source": [
    "(5 > 4) and (3 == 5)"
   ]
  },
  {
   "cell_type": "code",
   "execution_count": null,
   "metadata": {},
   "outputs": [],
   "source": [
    "not (5 > 4)\n"
   ]
  },
  {
   "cell_type": "code",
   "execution_count": null,
   "metadata": {},
   "outputs": [],
   "source": [
    "(5 > 4) or (3 == 5)\n"
   ]
  },
  {
   "cell_type": "code",
   "execution_count": null,
   "metadata": {},
   "outputs": [],
   "source": [
    "not ((5 > 4) or (3 == 5))\n"
   ]
  },
  {
   "cell_type": "code",
   "execution_count": null,
   "metadata": {},
   "outputs": [],
   "source": [
    "(True and True) and (True == False)\n"
   ]
  },
  {
   "cell_type": "code",
   "execution_count": null,
   "metadata": {},
   "outputs": [],
   "source": [
    "(not False) or (not True)"
   ]
  },
  {
   "cell_type": "markdown",
   "metadata": {},
   "source": [
    "**Question No. 5** What are the six comparison operators?"
   ]
  },
  {
   "cell_type": "markdown",
   "metadata": {},
   "source": [
    "**Answer**\n",
    "\n",
    "The six comparision operators are as follows:\n",
    "1. Less than (<), For ex- print(8<10)\n",
    "2. Greater than (>), For ex- print(8>10)\n",
    "3. Less than or equal to (<=), For ex- print(10<=10)\n",
    "4. Greater than or equal to (>=), For ex- print(10>=10)\n",
    "5. Equal to (==), For ex- print(10==10)\n",
    "6. Not equal to (!=), For ex- print(10!=10)"
   ]
  },
  {
   "cell_type": "code",
   "execution_count": null,
   "metadata": {},
   "outputs": [],
   "source": [
    "print(8<10)"
   ]
  },
  {
   "cell_type": "code",
   "execution_count": null,
   "metadata": {},
   "outputs": [],
   "source": [
    "print(10<=10)"
   ]
  },
  {
   "cell_type": "code",
   "execution_count": null,
   "metadata": {},
   "outputs": [],
   "source": [
    "print(10>=10)"
   ]
  },
  {
   "cell_type": "code",
   "execution_count": null,
   "metadata": {},
   "outputs": [],
   "source": [
    "print(10==10)"
   ]
  },
  {
   "cell_type": "code",
   "execution_count": null,
   "metadata": {},
   "outputs": [],
   "source": [
    "print(10!=10)"
   ]
  },
  {
   "cell_type": "markdown",
   "metadata": {},
   "source": [
    "**Question No. 6** How do you tell the difference between the equal to and assignment operators?Describe a condition and when you would use one. "
   ]
  },
  {
   "cell_type": "markdown",
   "metadata": {},
   "source": [
    "**Answer**\n",
    "\n",
    "In Python programming language, a single equal mark is used to assign a value to a variable, whereas two consecutive equal marks is used to check whether 2 expressions are equal.\n",
    "\n",
    "1. '=' is an assignment operator\n",
    "\n",
    "2. '==' is an equality operator\n",
    "\n",
    "\n",
    "For ex- \n",
    "a=10\n",
    "b=20\n",
    "c=20\n",
    "\n",
    "1. (a==b) is False because we assigned different values to x and y.\n",
    "\n",
    "2. (b==c) is True because we assign equal values to y and z."
   ]
  },
  {
   "cell_type": "markdown",
   "metadata": {},
   "source": [
    "**Question No. 7** Identify the three blocks in this code:\n",
    "spam = 0\n",
    "if spam == 10:\n",
    "print('eggs')\n",
    "if spam > 5:\n",
    "print('bacon')\n",
    "else:\n",
    "print('ham')\n",
    "print('spam')\n",
    "print('spam')\n"
   ]
  },
  {
   "cell_type": "markdown",
   "metadata": {},
   "source": [
    "**Answer**\n",
    "\n",
    "The three blocks in the code are as follows:\n",
    "1. if spam == 10:\n",
    "    print('eggs')\n",
    "2. if spam > 5:\n",
    "    print('bacon')\n",
    "3. else:\n",
    "    print('ham')\n",
    "    print('spam')\n",
    "    print('spam')    "
   ]
  },
  {
   "cell_type": "code",
   "execution_count": 2,
   "metadata": {
    "scrolled": false
   },
   "outputs": [
    {
     "name": "stdout",
     "output_type": "stream",
     "text": [
      "ham\n",
      "spam\n",
      "spam\n"
     ]
    }
   ],
   "source": [
    "spam = 0\n",
    "if spam == 10:\n",
    "    print('eggs')\n",
    "if spam > 5:\n",
    "    print('bacon')\n",
    "else:\n",
    "    print('ham')\n",
    "    print('spam')\n",
    "    print('spam')"
   ]
  },
  {
   "cell_type": "markdown",
   "metadata": {},
   "source": [
    "**Question No. 8** Write code that prints Hello if 1 is stored in spam, prints Howdy if 2 is stored in spam, and prints Greetings! if anything else is stored in spam"
   ]
  },
  {
   "cell_type": "code",
   "execution_count": 1,
   "metadata": {},
   "outputs": [
    {
     "name": "stdout",
     "output_type": "stream",
     "text": [
      "Enter your fovourite number: 2\n",
      "Howdy\n"
     ]
    }
   ],
   "source": [
    "#**Answer**\n",
    "\n",
    "spam= int(input('Enter your fovourite number: '))\n",
    "\n",
    "if spam==1:\n",
    "    print('Hello')\n",
    "elif spam==2:\n",
    "    print('Howdy')\n",
    "else:\n",
    "    print('Greetings!')"
   ]
  },
  {
   "cell_type": "markdown",
   "metadata": {},
   "source": [
    "**Question No. 9** If your programme is stuck in an endless loop, what keys you’ll press?"
   ]
  },
  {
   "cell_type": "markdown",
   "metadata": {},
   "source": [
    "**Answer**\n",
    "\n",
    "If you want to terminate the loop press 'Ctrl-C' on the keyboard."
   ]
  },
  {
   "cell_type": "markdown",
   "metadata": {},
   "source": [
    "**Question No. 10** How can you tell the difference between break and continue?"
   ]
  },
  {
   "cell_type": "markdown",
   "metadata": {},
   "source": [
    "**Answer**\n",
    "Following are the major differences in between Break and Continue statement:\n",
    "\n",
    "1. Both “break” and “continue” are the ‘jump’ statements, that transfer control of the program to another part of the program. The main difference between break and continue is that break is used for immediate termination of loop. On the other hand, ‘continue’ terminate the current iteration and resumes the control to the next iteration of the loop.\n",
    "2. The break statement allows the control to move out of the loop, skipping the execution of the remaining statements of the loop whenever encountered, whereas they continue statement allows the control to remain inside the loop only by moving 1 iteration ahead.\n",
    "3. A break statement inside the nested loop allows the termination of the innermost loop, and the control remains inside the outermost loop (it will not affect the outermost loop), whereas continuing statement inside the nested loop allows the skip of the current iteration and execution of the next iteration of the innermost loop.\n",
    "4. The continue statement in Python returns the control to the beginning of the 'while loop', while break statement instantly terminates the looop."
   ]
  },
  {
   "cell_type": "markdown",
   "metadata": {},
   "source": [
    "**Question No. 11** In a for loop, what is the difference between range(10), range(0, 10), and range(0, 10, 1)?"
   ]
  },
  {
   "cell_type": "markdown",
   "metadata": {},
   "source": [
    "**Answer**\n",
    "\n",
    "Function range(min_value, max_value) generates a sequence with numbers min_value, min_value + 1, ..., max_value - 1. The last number is not included.\n",
    "\n",
    "1. In case of range(10), range(max_value), in which case min_value is implicitly set to zero.\n",
    "2. In case of range(0, 10), Function range(min_value, max_value) generates a sequence with numbers min_value, min_value + 1, ..., max_value - 1. The last number is not included.\n",
    "3. In case of range(0, 10, 1), To iterate over a sequence, we can use an extended form of range() with three arguments - range(start_value, end_value, step). When omitted, the step is implicitly equal to 1. However, It can be any non-zero value. The loop always includes start_value and excludes end_value during iteration.\n"
   ]
  },
  {
   "cell_type": "markdown",
   "metadata": {},
   "source": [
    "**Question No. 12** Write a short program that prints the numbers 1 to 10 using a for loop. Then write an equivalent program that prints the numbers 1 to 10 using a while loop."
   ]
  },
  {
   "cell_type": "code",
   "execution_count": 2,
   "metadata": {},
   "outputs": [
    {
     "name": "stdout",
     "output_type": "stream",
     "text": [
      "1\n",
      "2\n",
      "3\n",
      "4\n",
      "5\n",
      "6\n",
      "7\n",
      "8\n",
      "9\n",
      "10\n",
      "1\n",
      "2\n",
      "3\n",
      "4\n",
      "5\n",
      "6\n",
      "7\n",
      "8\n",
      "9\n",
      "10\n"
     ]
    }
   ],
   "source": [
    "#**Answer**\n",
    "\n",
    "#For Loop\n",
    "for a in range(10):\n",
    "    print(a+1)\n",
    "    \n",
    "#While Loop\n",
    "a=1\n",
    "while a<11:\n",
    "    print(a)\n",
    "    a+=1\n",
    "    "
   ]
  },
  {
   "cell_type": "markdown",
   "metadata": {},
   "source": [
    "**Question No. 13** If you had a function named bacon() inside a module named spam, how would you call it after importing spam?"
   ]
  },
  {
   "cell_type": "markdown",
   "metadata": {},
   "source": [
    "**Answer**\n",
    "\n",
    "We can do it in following steps...\n",
    "\n",
    "1. from spam import * (First import the module)\n",
    "2. bacon() (Call the function)"
   ]
  }
 ],
 "metadata": {
  "kernelspec": {
   "display_name": "Python 3",
   "language": "python",
   "name": "python3"
  },
  "language_info": {
   "codemirror_mode": {
    "name": "ipython",
    "version": 3
   },
   "file_extension": ".py",
   "mimetype": "text/x-python",
   "name": "python",
   "nbconvert_exporter": "python",
   "pygments_lexer": "ipython3",
   "version": "3.8.5"
  }
 },
 "nbformat": 4,
 "nbformat_minor": 4
}
