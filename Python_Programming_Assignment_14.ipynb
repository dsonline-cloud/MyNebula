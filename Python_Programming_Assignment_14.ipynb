{
 "cells": [
  {
   "cell_type": "markdown",
   "id": "6eeb69e8",
   "metadata": {},
   "source": [
    "**Question No.1** Define a class with a generator which can iterate the numbers, which are divisible by 7, between a given range 0 and n.\n"
   ]
  },
  {
   "cell_type": "code",
   "execution_count": 7,
   "id": "78a72f8d",
   "metadata": {},
   "outputs": [
    {
     "name": "stdout",
     "output_type": "stream",
     "text": [
      "22\n",
      "[0, 7, 14, 21]\n",
      "0 True\n",
      "1 False\n",
      "2 False\n",
      "3 False\n",
      "4 False\n",
      "5 False\n",
      "6 False\n",
      "7 True\n",
      "8 False\n",
      "9 False\n",
      "10 False\n",
      "11 False\n",
      "12 False\n",
      "13 False\n",
      "14 True\n",
      "15 False\n",
      "16 False\n",
      "17 False\n",
      "18 False\n",
      "19 False\n",
      "20 False\n",
      "21 True\n"
     ]
    }
   ],
   "source": [
    "# **Ans**\n",
    "\n",
    "x = int(input())\n",
    "divide_by7 = [i for i in range(0, x) if (i % 7 == 0)]\n",
    "print(divide_by7)\n",
    "\n",
    "def Checker(x):\n",
    "    for i in range(x):\n",
    "        if i % 7 == 0:\n",
    "            value = True\n",
    "        else:\n",
    "            value = False\n",
    "        print(i, value)\n",
    "Checker(x)"
   ]
  },
  {
   "cell_type": "markdown",
   "id": "c9a5b3c2",
   "metadata": {},
   "source": [
    "**Question No.2** Write a program to compute the frequency of the words from the input. The output should output after sorting the key alphanumerically. \n",
    "\n",
    "Suppose the following input is supplied to the program:\n",
    "\n",
    "New to Python or choosing between Python 2 and Python 3? Read Python 2 or Python 3.\n",
    "\n",
    "Then, the output should be:\n",
    "\n",
    "2:2\n",
    "\n",
    "3.:1\n",
    "\n",
    "3?:1\n",
    "\n",
    "New:1\n",
    "\n",
    "Python:5\n",
    "\n",
    "Read:1\n",
    "\n",
    "and:1\n",
    "\n",
    "between:1\n",
    "\n",
    "choosing:1\n",
    "\n",
    "or:2\n",
    "\n",
    "to:1\n"
   ]
  },
  {
   "cell_type": "code",
   "execution_count": 17,
   "id": "90fe2507",
   "metadata": {},
   "outputs": [
    {
     "name": "stdout",
     "output_type": "stream",
     "text": [
      "New to Python or choosing between Python 2 and Python 3? Read Python 2 or Python 3.\n",
      "2:2\n",
      "3.:1\n",
      "3?:1\n",
      "New:1\n",
      "Python:5\n",
      "Read:1\n",
      "and:1\n",
      "between:1\n",
      "choosing:1\n",
      "or:2\n",
      "to:1\n"
     ]
    }
   ],
   "source": [
    "# **Ans**\n",
    "\n",
    "your_words = input().split()\n",
    "word = sorted(set(your_words))    # split words are stored and sorted as a set\n",
    "\n",
    "for i in word:\n",
    "    print(\"{0}:{1}\".format(i,your_words.count(i)))"
   ]
  },
  {
   "cell_type": "markdown",
   "id": "e32bca2d",
   "metadata": {},
   "source": [
    "**Question No.3** Define a class Person and its two child classes: Male and Female. All classes have a method \"getGender\" which can print \"Male\" for Male class and \"Female\" for Female class."
   ]
  },
  {
   "cell_type": "code",
   "execution_count": 18,
   "id": "a228dec6",
   "metadata": {},
   "outputs": [
    {
     "name": "stdout",
     "output_type": "stream",
     "text": [
      "Male\n",
      "Female\n"
     ]
    }
   ],
   "source": [
    "# **Ans**\n",
    "\n",
    "class Person(object):\n",
    "    def getGender( self ):\n",
    "        return \"Unknown\"\n",
    "\n",
    "class Male( Person ):\n",
    "    def getGender( self ):\n",
    "        return \"Male\"\n",
    "\n",
    "class Female( Person ):\n",
    "    def getGender( self ):\n",
    "        return \"Female\"\n",
    "\n",
    "a_Male = Male()\n",
    "a_Female= Female()\n",
    "print(a_Male.getGender())\n",
    "print(a_Female.getGender())"
   ]
  },
  {
   "cell_type": "markdown",
   "id": "b3158860",
   "metadata": {},
   "source": [
    "**Question No.4** Please write a program to generate all sentences where subject is in [\"I\", \"You\"] and verb is in [\"Play\", \"Love\"] and the object is in [\"Hockey\",\"Football\"]."
   ]
  },
  {
   "cell_type": "code",
   "execution_count": 19,
   "id": "1360a7e2",
   "metadata": {},
   "outputs": [
    {
     "name": "stdout",
     "output_type": "stream",
     "text": [
      "I Play Hockey\n",
      "I Play Football\n",
      "I Love Hockey\n",
      "I Love Football\n",
      "You Play Hockey\n",
      "You Play Football\n",
      "You Love Hockey\n",
      "You Love Football\n"
     ]
    }
   ],
   "source": [
    "# **Ans**\n",
    "\n",
    "subjects=[\"I\", \"You\"]\n",
    "verbs=[\"Play\", \"Love\"]\n",
    "objects=[\"Hockey\",\"Football\"]\n",
    "\n",
    "res = [[i, j, k] for i in subjects  \n",
    "                 for j in verbs \n",
    "                 for k in objects] \n",
    "for x in res:\n",
    "    print(\" \".join(x))"
   ]
  },
  {
   "cell_type": "markdown",
   "id": "37908c99",
   "metadata": {},
   "source": [
    "**Question No.5** Please write a program to compress and decompress the string \"hello world!helloworld!helloworld!hello world!\"."
   ]
  },
  {
   "cell_type": "code",
   "execution_count": 24,
   "id": "287570f4",
   "metadata": {},
   "outputs": [
    {
     "name": "stdout",
     "output_type": "stream",
     "text": [
      "b'x\\x9c\\xcbH\\xcd\\xc9\\xc9W(\\xcf/\\xcaIQ\\xcc \\x82\\r\\x00\\xbd[\\x11\\xf5'\n",
      "b'hello world!hello world!hello world!hello world!'\n"
     ]
    }
   ],
   "source": [
    "# **Ans**\n",
    "\n",
    "s = 'hello world!hello world!hello world!hello world!'\n",
    "\n",
    "y = bytes(s, 'utf-8')\n",
    "x = zlib.compress(y)\n",
    "print(x)\n",
    "print(zlib.decompress(x))"
   ]
  },
  {
   "cell_type": "markdown",
   "id": "0421c993",
   "metadata": {},
   "source": [
    "**Question No.6** Please write a binary search function which searches an item in a sorted list. The function should return the index of element to be searched in the list."
   ]
  },
  {
   "cell_type": "code",
   "execution_count": 27,
   "id": "76674b83",
   "metadata": {},
   "outputs": [
    {
     "name": "stdout",
     "output_type": "stream",
     "text": [
      "Element is present at index 3\n"
     ]
    }
   ],
   "source": [
    "# **Ans**\n",
    "\n",
    "def binary_search(arr, low, high, x):\n",
    " \n",
    "    # Check base case\n",
    "    if high >= low:\n",
    " \n",
    "        mid = (high + low) // 2\n",
    " \n",
    "        # If element is present at the middle itself\n",
    "        if arr[mid] == x:\n",
    "            return mid\n",
    " \n",
    "        # If element is smaller than mid, then it can only\n",
    "        # be present in left subarray\n",
    "        elif arr[mid] > x:\n",
    "            return binary_search(arr, low, mid - 1, x)\n",
    " \n",
    "        # Else the element can only be present in right subarray\n",
    "        else:\n",
    "            return binary_search(arr, mid + 1, high, x)\n",
    " \n",
    "    else:\n",
    "        # Element is not present in the array\n",
    "        return -1\n",
    " \n",
    "\n",
    "arr = [ 2, 3, 4, 10, 40 ]\n",
    "x = 10\n",
    " \n",
    "\n",
    "result = binary_search(arr, 0, len(arr)-1, x)\n",
    " \n",
    "if result != -1:\n",
    "    print(\"Element is present at index\", str(result))\n",
    "else:\n",
    "    print(\"Element is not present in array\")\n"
   ]
  },
  {
   "cell_type": "code",
   "execution_count": null,
   "id": "5d9139e1",
   "metadata": {},
   "outputs": [],
   "source": []
  }
 ],
 "metadata": {
  "kernelspec": {
   "display_name": "Python 3",
   "language": "python",
   "name": "python3"
  },
  "language_info": {
   "codemirror_mode": {
    "name": "ipython",
    "version": 3
   },
   "file_extension": ".py",
   "mimetype": "text/x-python",
   "name": "python",
   "nbconvert_exporter": "python",
   "pygments_lexer": "ipython3",
   "version": "3.8.8"
  }
 },
 "nbformat": 4,
 "nbformat_minor": 5
}
