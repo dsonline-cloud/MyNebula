{
 "cells": [
  {
   "cell_type": "markdown",
   "metadata": {},
   "source": [
    "**Question No. 1** In the below elements which of them are values or an expression? eg:- values can be integer or string and expressions will be mathematical operators.\n",
    "\n",
    "\n",
    "1. * \n",
    "2. 'hello'\n",
    "3. -87.8\n",
    "4.  - \n",
    "5.  / \n",
    "6.  +\t\n",
    "7.  6 \n"
   ]
  },
  {
   "cell_type": "markdown",
   "metadata": {},
   "source": [
    "**Answer**\n",
    "1. '*' is an expression because it's a mathematical operator for multiplication.\n",
    "2. \"hello\" a string hence it's a value.\n",
    "3. '-87' is an expression because it includes an integer 87 and a mathematical operator '-'.\n",
    "4. '-' is a mathematical operator for subtraction hence it's an expression.\n",
    "5. '/' is a mathematical operator for division hence it's an expression.\n",
    "6. '+' is a mathematical operator for addition hence it's an expression.\n",
    "7. '6' is an integer hence it's a value.\n"
   ]
  },
  {
   "cell_type": "markdown",
   "metadata": {},
   "source": [
    "**Question No. 2** What is the difference between string and variable?"
   ]
  },
  {
   "cell_type": "markdown",
   "metadata": {},
   "source": [
    "**Answer**\n",
    "\n",
    "A string is the datatype which is enclosed in quotes whether a variable is a container which stores the data or values. String is literal text or values enclosed in the quotes."
   ]
  },
  {
   "cell_type": "markdown",
   "metadata": {},
   "source": [
    "**Question No. 3** Describe different data types."
   ]
  },
  {
   "cell_type": "markdown",
   "metadata": {},
   "source": [
    "**Answer**\n",
    "\n",
    "Python provides various standard data types:\n",
    "\n",
    "1. Integers=> It is the positive or negative numeric value without the decimal. For ex- 45, 23, 10, 5\n",
    "2. Float=> It represents the real number and It is the positive or negative numeric value with the decimal. It represents the              fractional values in the decimal form. For ex- 56.5, 89.0, 7.1, 10.7\n",
    "3. String=> String is literal text or values enclosed in the quotes. For ex- \"Good\", \"Hey\", \"John Cena\", \"Brock Lesnar\"\n",
    "4. Boolean=> Boolean values are the two constant objects False and True. They are used to represent truth values and values in              case of boolean are either True or False. For ex- Check whether (9>45), It's false.\n",
    "5. Set=>  Sets are used to store multiple items in a single variable. Set is a collection which is both unordered and                     unindexed.Sets cannot have two items with the same value. For ex- Myset = {\"apple\", \"banana\", \"cherry\"}\n",
    "6. Dictionary=> Dictionaries are used to store data values in 'key:value' pairs.A dictionary is a collection which is ordered,                changeable and does not allow duplicates. Dictionaries are written with curly brackets, and have keys and                      values. For ex- Mydict = {\"brand\": \"Tesla\", \"model\": \"X\", \"year\": 2020} \n",
    "7. Tuple=> Tuples are identical to lists in all respects, except for the following properties. Tuples are defined by enclosing the elements in parentheses (()) instead of square brackets ([]). Tuples are immutable. For ex- Fruits = ('Grapes', 'Mango', 'banana', 'Peach', 'Pineapple', 'dragonfruit')\n",
    "8. List=>In short, a list is a collection of arbitrary objects, somewhat akin to an array in many other programming languages but more flexible. Lists are defined in Python by enclosing a comma-separated sequence of objects in square brackets ([]), as shown below:\n",
    "\n",
    "=>The important characteristics of Python lists are as follows:\n",
    "\n",
    "Lists are ordered.\n",
    "Lists can contain any arbitrary objects.\n",
    "List elements can be accessed by index.\n",
    "Lists can be nested to arbitrary depth.\n",
    "Lists are mutable./n\n",
    "Lists are dynamic. For ex- a = ['car', 'bar', 'buzz', 'clan']\n",
    "   "
   ]
  },
  {
   "cell_type": "markdown",
   "metadata": {},
   "source": [
    "**Question No. 4** What is an expression made up of? What do all expressions do?"
   ]
  },
  {
   "cell_type": "markdown",
   "metadata": {},
   "source": [
    "**Answer**\n",
    "\n",
    "Expressions are representations of value. They are different from statement in the fact that statements do something while expressions are representation of value. For example any string is also an expressions since it represents the value of the string as well.\n",
    "\n",
    "Python has some advanced constructs through which you can represent values and hence these constructs are also called expressions.\n",
    "\n",
    "OR\n",
    "\n",
    "An expression is a combination of values, variables, and operators. If you type an expression on the command line, the interpreter evaluates it and displays the result. An expression is an instruction that combines values and operators and always evaluates down to a single value or in simple words we say that A sequence of operands and operators, like a + b - 5, is called an expression where a, b and c are operands and +, - are operators. \n",
    "expressions evaluate the values of the operand based on the given operator on it's priority.\n",
    "\n",
    "for ex- \n",
    "1. a+b-c\n",
    "2. 20+(8+9)*5\n",
    "\n",
    "\n"
   ]
  },
  {
   "cell_type": "markdown",
   "metadata": {},
   "source": [
    "**Question No. 5** This assignment statements, like spam = 10. What is the difference between an expression and a statement?"
   ]
  },
  {
   "cell_type": "markdown",
   "metadata": {},
   "source": [
    "**Answer**\n",
    "\n",
    "When we say expression we’re referring to anything that can be evaluated to produce a value. Naturally, we can think of any data by itself as an expression because data always evaluates to itself whether In contrast, statements do not return anything. Instead, they perform an action which introduces some form of state (aka a side effect). \n",
    "The following list contains a few examples of statements.\n",
    "x = 5\n",
    "if (y) { ... }\n",
    "while (true) { ... }\n",
    "return s"
   ]
  },
  {
   "cell_type": "markdown",
   "metadata": {},
   "source": [
    "**Question No. 6** After running the following code, what does the variable bacon contain?\n",
    "bacon = 22\n",
    "bacon + 1\n"
   ]
  },
  {
   "cell_type": "code",
   "execution_count": 13,
   "metadata": {},
   "outputs": [
    {
     "name": "stdout",
     "output_type": "stream",
     "text": [
      "23\n"
     ]
    }
   ],
   "source": [
    "# **Answer**\n",
    "\n",
    "bacon = 22\n",
    "bacon + 1\n",
    "print(bacon)\n",
    "\n",
    "# Here bacon contains the value 22."
   ]
  },
  {
   "cell_type": "markdown",
   "metadata": {},
   "source": [
    "**Question No. 7** What should the values of the following two terms be?\n",
    "'spam' + 'spamspam'\n",
    "'spam' * 3\n"
   ]
  },
  {
   "cell_type": "code",
   "execution_count": 17,
   "metadata": {},
   "outputs": [
    {
     "data": {
      "text/plain": [
       "'spamspamspam'"
      ]
     },
     "execution_count": 17,
     "metadata": {},
     "output_type": "execute_result"
    }
   ],
   "source": [
    "# **Answer**\n",
    "\n",
    "'spam' + 'spamspam'\n",
    "# It produces 'spamspamspam'.\n",
    "\n",
    "'spam' * 3\n",
    "# It also produces 'spamspamspam'."
   ]
  },
  {
   "cell_type": "markdown",
   "metadata": {},
   "source": [
    "**Question No. 8** Why is eggs a valid variable name while 100 is invalid?"
   ]
  },
  {
   "cell_type": "markdown",
   "metadata": {},
   "source": [
    "**Answer**\n",
    "\n",
    "'eggs' is valid variable because Variable name should start with letter(a-z, A-Z) or underscore (_).\n",
    "'100' is invalid variable because Variable name can't have numbers at the beginning."
   ]
  },
  {
   "cell_type": "markdown",
   "metadata": {},
   "source": [
    "**Question No. 9** What three functions can be used to get the integer, floating-point number, or string version of a value?"
   ]
  },
  {
   "cell_type": "markdown",
   "metadata": {},
   "source": [
    "**Answer**\n",
    "\n",
    "These are three major datatypes in python:\n",
    "Integer (int): represents positive or negative whole numbers like 8 or -999.\n",
    "Floating point number (float): represents real numbers like 7.156 or -654.321.\n",
    "Character string (usually called “string”, str)\n",
    "\n",
    "We can get the get the all three version of any value by typecasting the same value.\n",
    "\n",
    "a = 20 , \n",
    "here 'a' is integer.\n",
    "\n",
    "a= float(a) , \n",
    "here 'a' is floating point number.\n",
    "\n",
    "a= str(a) ,\n",
    "here 'a' is string."
   ]
  },
  {
   "cell_type": "code",
   "execution_count": 21,
   "metadata": {},
   "outputs": [
    {
     "data": {
      "text/plain": [
       "float"
      ]
     },
     "execution_count": 21,
     "metadata": {},
     "output_type": "execute_result"
    }
   ],
   "source": [
    "a= 20\n",
    "type(a)\n",
    "a = str(a)\n",
    "type(a)\n",
    "a = float(a)\n",
    "type(a)"
   ]
  },
  {
   "cell_type": "markdown",
   "metadata": {},
   "source": [
    "**Quesion No. 10** Why does this expression cause an error? How can you fix it?\n",
    "'I have eaten ' + 99 + ' burritos.'\n"
   ]
  },
  {
   "cell_type": "markdown",
   "metadata": {},
   "source": [
    "**Answer**\n",
    "\n",
    "This expression cause an error because string can concatenate with string only not with integer.\n",
    "\n",
    "we can fix this issue by following way:\n",
    "\n",
    "'I have eaten ' + '99' + ' burritos.'\n",
    "above statement will produce the following results...'I have eaten 99 burritos.'\n"
   ]
  },
  {
   "cell_type": "code",
   "execution_count": 23,
   "metadata": {},
   "outputs": [
    {
     "data": {
      "text/plain": [
       "'I have eaten 99 burritos.'"
      ]
     },
     "execution_count": 23,
     "metadata": {},
     "output_type": "execute_result"
    }
   ],
   "source": [
    "'I have eaten ' + '99' + ' burritos.'"
   ]
  },
  {
   "cell_type": "code",
   "execution_count": null,
   "metadata": {},
   "outputs": [],
   "source": []
  },
  {
   "cell_type": "code",
   "execution_count": null,
   "metadata": {},
   "outputs": [],
   "source": []
  }
 ],
 "metadata": {
  "kernelspec": {
   "display_name": "Python 3",
   "language": "python",
   "name": "python3"
  },
  "language_info": {
   "codemirror_mode": {
    "name": "ipython",
    "version": 3
   },
   "file_extension": ".py",
   "mimetype": "text/x-python",
   "name": "python",
   "nbconvert_exporter": "python",
   "pygments_lexer": "ipython3",
   "version": "3.8.5"
  }
 },
 "nbformat": 4,
 "nbformat_minor": 4
}
