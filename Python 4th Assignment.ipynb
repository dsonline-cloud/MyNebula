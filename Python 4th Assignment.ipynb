{
 "cells": [
  {
   "cell_type": "markdown",
   "metadata": {},
   "source": [
    "**Question No.1 ** What exactly is []?"
   ]
  },
  {
   "cell_type": "markdown",
   "metadata": {},
   "source": [
    "**Answer**\n",
    "\n",
    "'[]' = It is an empty list"
   ]
  },
  {
   "cell_type": "code",
   "execution_count": 2,
   "metadata": {},
   "outputs": [
    {
     "data": {
      "text/plain": [
       "list"
      ]
     },
     "execution_count": 2,
     "metadata": {},
     "output_type": "execute_result"
    }
   ],
   "source": [
    "type([])"
   ]
  },
  {
   "cell_type": "markdown",
   "metadata": {},
   "source": [
    "**Question No.2** In a list of values stored in a variable called spam, how would you assign the value 'hello' as the third value? (Assume [2, 4, 6, 8, 10] are in spam.)"
   ]
  },
  {
   "cell_type": "markdown",
   "metadata": {},
   "source": [
    "**Answer**\n",
    "\n",
    "We will assign \"hello\" as third value in list in following steps:\n",
    "\n",
    "1. spam = [2, 4, 6, 8, 10] (Create a list called spam)\n",
    "2. spam[2]= \"hello\"  (Assign the value 'hello' at the third place.)\n",
    "3. print(spam) (Check the updated list)"
   ]
  },
  {
   "cell_type": "code",
   "execution_count": 4,
   "metadata": {},
   "outputs": [],
   "source": [
    "#spam = [2, 4, 6, 8, 10]"
   ]
  },
  {
   "cell_type": "code",
   "execution_count": 9,
   "metadata": {},
   "outputs": [
    {
     "name": "stdout",
     "output_type": "stream",
     "text": [
      "[2, 4, 'hello', 8, 10]\n",
      "<class 'list'>\n"
     ]
    }
   ],
   "source": [
    "spam[2]= \"hello\"\n",
    "\n",
    "print(spam)\n",
    "\n",
    "print(type(spam))"
   ]
  },
  {
   "cell_type": "markdown",
   "metadata": {},
   "source": [
    "**Let's pretend the spam includes the list ['a', 'b', 'c', 'd'] for the next three queries.\n",
    "\n",
    "**Question No.3** What is the value of spam[int(int('3' * 2) / 11)]?\n"
   ]
  },
  {
   "cell_type": "code",
   "execution_count": 17,
   "metadata": {},
   "outputs": [
    {
     "data": {
      "text/plain": [
       "'d'"
      ]
     },
     "execution_count": 17,
     "metadata": {},
     "output_type": "execute_result"
    }
   ],
   "source": [
    "#**Answer**\n",
    "spam= ['a', 'b', 'c', 'd'] \n",
    "\n",
    "spam[int(int('3' * 2) / 11)]  #It's value will be 'd'."
   ]
  },
  {
   "cell_type": "code",
   "execution_count": 16,
   "metadata": {},
   "outputs": [
    {
     "data": {
      "text/plain": [
       "33"
      ]
     },
     "execution_count": 16,
     "metadata": {},
     "output_type": "execute_result"
    }
   ],
   "source": [
    "int('3' * 2)"
   ]
  },
  {
   "cell_type": "markdown",
   "metadata": {},
   "source": [
    "**Question No.4** What is the value of spam[-1]?"
   ]
  },
  {
   "cell_type": "code",
   "execution_count": 18,
   "metadata": {
    "scrolled": true
   },
   "outputs": [
    {
     "data": {
      "text/plain": [
       "'d'"
      ]
     },
     "execution_count": 18,
     "metadata": {},
     "output_type": "execute_result"
    }
   ],
   "source": [
    "#**Answer**\n",
    "spam= ['a', 'b', 'c', 'd']\n",
    "\n",
    "spam[-1] #It's value will be 'd'."
   ]
  },
  {
   "cell_type": "markdown",
   "metadata": {},
   "source": [
    "**Question No.5** What is the value of spam[:2]?"
   ]
  },
  {
   "cell_type": "code",
   "execution_count": 19,
   "metadata": {},
   "outputs": [
    {
     "data": {
      "text/plain": [
       "['a', 'b']"
      ]
     },
     "execution_count": 19,
     "metadata": {},
     "output_type": "execute_result"
    }
   ],
   "source": [
    "#**Answer**\n",
    "\n",
    "spam= ['a', 'b', 'c', 'd']\n",
    "\n",
    "spam[:2]  #It's value will be ['a', 'b']."
   ]
  },
  {
   "cell_type": "markdown",
   "metadata": {},
   "source": [
    "**Let's pretend bacon has the list [3.14, 'cat,' 11, 'cat,' True] for the next three questions.\n",
    "\n",
    "**Question No.6** What is the value of bacon.index('cat')?"
   ]
  },
  {
   "cell_type": "code",
   "execution_count": 25,
   "metadata": {
    "scrolled": true
   },
   "outputs": [
    {
     "data": {
      "text/plain": [
       "1"
      ]
     },
     "execution_count": 25,
     "metadata": {},
     "output_type": "execute_result"
    }
   ],
   "source": [
    "#**Answer**\n",
    "\n",
    "bacon = [3.14, 'cat', 11, 'cat', True]\n",
    "\n",
    "bacon.index('cat') #It's value will be 1."
   ]
  },
  {
   "cell_type": "markdown",
   "metadata": {},
   "source": [
    "**Question No.7** How does bacon.append(99) change the look of the list value in bacon?"
   ]
  },
  {
   "cell_type": "code",
   "execution_count": 28,
   "metadata": {},
   "outputs": [
    {
     "name": "stdout",
     "output_type": "stream",
     "text": [
      "[3.14, 'cat', 11, 'cat', True, 99]\n"
     ]
    }
   ],
   "source": [
    "#**Answer**\n",
    "\n",
    "bacon = [3.14, 'cat', 11, 'cat', True]\n",
    "\n",
    "bacon.append(99)\n",
    "\n",
    "print(bacon)\n",
    "\n",
    "#This will be the updated look of the bacon after bacon.append(99) as mentioned below.\n",
    "\n",
    "bacon = [3.14, 'cat', 11, 'cat', True, 99]"
   ]
  },
  {
   "cell_type": "markdown",
   "metadata": {},
   "source": [
    "**Question No.8** How does bacon.remove('cat') change the look of the list in bacon?"
   ]
  },
  {
   "cell_type": "code",
   "execution_count": 32,
   "metadata": {},
   "outputs": [
    {
     "name": "stdout",
     "output_type": "stream",
     "text": [
      "[3.14, 11, 'cat', True, 99]\n"
     ]
    }
   ],
   "source": [
    "#**Answer**\n",
    "\n",
    "bacon = [3.14, 'cat', 11, 'cat', True, 99]\n",
    "\n",
    "bacon.remove('cat')\n",
    "\n",
    "print(bacon)\n",
    "\n",
    "#This will be the updated look of the bacon after bacon.remove('cat') as mentioned below.\n",
    "\n",
    "bacon = [3.14, 11, 'cat', True, 99]"
   ]
  },
  {
   "cell_type": "markdown",
   "metadata": {},
   "source": [
    "**Question No.9** What are the list concatenation and list replication operators?"
   ]
  },
  {
   "cell_type": "code",
   "execution_count": 36,
   "metadata": {},
   "outputs": [
    {
     "name": "stdout",
     "output_type": "stream",
     "text": [
      "[5, 6, 8, 12, 'a', 'b', 'c', 'd']\n",
      "[5, 6, 8, 12, 5, 6, 8, 12]\n",
      "[5, 6, 8, 12]\n"
     ]
    }
   ],
   "source": [
    "#**Answer**\n",
    "\n",
    "a = [5, 6, 8, 12]\n",
    "\n",
    "b = ['a', 'b', 'c', 'd']\n",
    "\n",
    "#List concatenation opertor is as follows:\n",
    "\n",
    "c = a + b #It will concatenate the list, the \"+\" operator will do the concatenation.\n",
    "\n",
    "print(c)\n",
    "\n",
    "#List replication opertor is as follows:\n",
    "\n",
    "print(a*2) #It will replicate elements of the list.\n",
    "\n",
    "Sam = a[:] #It will whole list and create a copy of the list.\n",
    "\n",
    "print(Sam)"
   ]
  },
  {
   "cell_type": "markdown",
   "metadata": {},
   "source": [
    "**Question No.10** What is difference between the list methods append() and insert()?"
   ]
  },
  {
   "cell_type": "markdown",
   "metadata": {},
   "source": [
    "**Answer**\n",
    "\n",
    "\n",
    "The difference is that with append, you just add a new entry at the end of the list while with insert(position, new_entry) you can create a new entry exactly in the position you want.\n",
    "\n",
    "for ex- \n",
    "\n",
    "1.  lst_list = [7,12,17,22,27]\n",
    "\n",
    " \n",
    "    print (\"The list before append:\",lst_list)\n",
    "\n",
    "    lst_list.append(32)\n",
    " \n",
    "    print (\"The list after append:\", lst_list)\n",
    "    \n",
    "2. lst_insert = ['Python','List','method']\n",
    "\n",
    "   print (\"The list before insert:\", lst_insert)\n",
    "  \n",
    "   lst_insert.insert(1, 'insert')\n",
    "\n",
    "   print (\"The list after insert:\", lst_insert)\n",
    "\n"
   ]
  },
  {
   "cell_type": "markdown",
   "metadata": {},
   "source": [
    "**Question No.11** What are the two methods for removing items from a list?"
   ]
  },
  {
   "cell_type": "markdown",
   "metadata": {},
   "source": [
    "**Answer**\n",
    "\n",
    "The two methods for removing items from list are as mentioned below:\n",
    "\n",
    "1. List Object’s remove() method:\n",
    "   myList = [\"Bran\", 11, 22, 33, \"Stark\", 22, 33, \"Lanister\"]\n",
    "   \n",
    "   myList.remove(\"Lanister\")\n",
    "   \n",
    "2. List Object’s pop() method:\n",
    "   myList = [\"Bran\",11,22,33,\"Stark\",22,33,11]\n",
    " \n",
    "   myList.pop(\"Bran\")   \n",
    " \n",
    "   "
   ]
  },
  {
   "cell_type": "markdown",
   "metadata": {},
   "source": [
    "**Question No.12** Describe how list values and string values are identical."
   ]
  },
  {
   "cell_type": "markdown",
   "metadata": {},
   "source": [
    "**Answer**\n",
    "\n",
    "1. A list is a sequential collection of Python data values, where each value is identified by an index. The values that make up a list are called its elements. Lists are similar to strings, which are ordered collections of characters, except that the elements of a list can have any type and for any one list, the items can be of different types.\n",
    "2. Both strings and lists are iterable types in Python"
   ]
  },
  {
   "cell_type": "markdown",
   "metadata": {},
   "source": [
    "**Question No.13** What's the difference between tuples and lists?"
   ]
  },
  {
   "cell_type": "markdown",
   "metadata": {},
   "source": [
    "**Answer**\n",
    "\n",
    "Difference between lists and tuples are as follows:\n",
    "\n",
    "1. Lists are mutable whether tupes are immutable.\n",
    "\n",
    "2. The list is better for performing operations, such as insertion and deletion whether Tuple data type is appropriate for accessing the elements.\n",
    "\n",
    "3. Lists consumes more memory whether tuples consumes less memory.\n",
    "\n",
    "4. Tuples cannot be copied. The reason is that tuples are immutable whether list can be copied."
   ]
  },
  {
   "cell_type": "markdown",
   "metadata": {},
   "source": [
    "**Question No.14** How do you type a tuple value that only contains the integer 42?"
   ]
  },
  {
   "cell_type": "code",
   "execution_count": 38,
   "metadata": {},
   "outputs": [
    {
     "data": {
      "text/plain": [
       "tuple"
      ]
     },
     "execution_count": 38,
     "metadata": {},
     "output_type": "execute_result"
    }
   ],
   "source": [
    "#**Answer**\n",
    "\n",
    "b = (42,)\n",
    "\n",
    "type(b)"
   ]
  },
  {
   "cell_type": "markdown",
   "metadata": {},
   "source": [
    "**Question No.15** How do you get a list value's tuple form? How do you get a tuple value's list form?"
   ]
  },
  {
   "cell_type": "code",
   "execution_count": 44,
   "metadata": {},
   "outputs": [
    {
     "data": {
      "text/plain": [
       "list"
      ]
     },
     "execution_count": 44,
     "metadata": {},
     "output_type": "execute_result"
    }
   ],
   "source": [
    "#**Answer**\n",
    "\n",
    "# We can do it easily with the help of typecasting as shown below.\n",
    "\n",
    "a = [5, 6, 7, 8] #This is the list.\n",
    "\n",
    "b = (9, 10, 19, 20) #This is tuple.\n",
    "\n",
    "b = list(b)\n",
    "a = tuple(a)\n",
    "\n",
    "type(a)\n",
    "type(b)"
   ]
  },
  {
   "cell_type": "markdown",
   "metadata": {},
   "source": [
    "**Question No.16** How do you distinguish between copy.copy() and copy.deepcopy()?"
   ]
  },
  {
   "cell_type": "markdown",
   "metadata": {},
   "source": [
    "**Answer**\n",
    "\n",
    "1. deepcopy() copies original object recursively, while .copy() create a reference object to first-level data of original object.\n",
    "2. Deep copy stores copies of an object's values, whereas shallow copy stories references to the original memory address\n",
    "3. Deep copy doesn't reflect changes made to the new/copied object in the original object; whereas, shallow copy does\n",
    "\n",
    "for ex- \n",
    "\n",
    "1. result_A = [[90, 85, 82], [72, 88, 90]]\n",
    "   result_B = copy.copy(result_A)\n",
    "\n",
    "   print(result_A)\n",
    "   print(result_B)\n",
    "   \n",
    "2. result_A = [[90, 85, 82], [72, 88, 90]] # Student A grades\n",
    "   result_B = copy.deepcopy(result_A) # Student B grades (copied from A)\n",
    "\n",
    "   print(result_A)\n",
    "   print(result_B)   "
   ]
  }
 ],
 "metadata": {
  "kernelspec": {
   "display_name": "Python 3",
   "language": "python",
   "name": "python3"
  },
  "language_info": {
   "codemirror_mode": {
    "name": "ipython",
    "version": 3
   },
   "file_extension": ".py",
   "mimetype": "text/x-python",
   "name": "python",
   "nbconvert_exporter": "python",
   "pygments_lexer": "ipython3",
   "version": "3.8.5"
  }
 },
 "nbformat": 4,
 "nbformat_minor": 4
}
