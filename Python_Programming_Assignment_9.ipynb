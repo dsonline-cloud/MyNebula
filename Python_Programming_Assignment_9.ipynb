{
 "cells": [
  {
   "cell_type": "markdown",
   "metadata": {},
   "source": [
    "**Question No.1** Write a Python program to check if the given number is a Disarium Number?"
   ]
  },
  {
   "cell_type": "code",
   "execution_count": 6,
   "metadata": {},
   "outputs": [
    {
     "name": "stdout",
     "output_type": "stream",
     "text": [
      "56 is not a disarium number\n"
     ]
    }
   ],
   "source": [
    "# **Ans**\n",
    "   \n",
    "def its_Length(n):    \n",
    "    length = 0    \n",
    "    while(n != 0):    \n",
    "        length = length + 1    \n",
    "        n = n//10    \n",
    "    return length    \n",
    "     \n",
    "num = 56    \n",
    "rem = sum = 0    \n",
    "len = its_Length(num);    \n",
    "     \n",
    "#Make a copy of the original number num.    \n",
    "n = num    \n",
    "     \n",
    "#Calculates the sum of digits powered with their respective position.    \n",
    "while(num > 0):    \n",
    "    rem = num%10    \n",
    "    sum = sum + int(rem**len)    \n",
    "    num = num//10    \n",
    "    len = len - 1    \n",
    "     \n",
    "#Check whether the sum is equal to the number itself.    \n",
    "if(sum == n):    \n",
    "    print(str(n) + \" is a disarium number\")    \n",
    "else:    \n",
    "    print(str(n) + \" is not a disarium number\")"
   ]
  },
  {
   "cell_type": "markdown",
   "metadata": {},
   "source": [
    "**Question No.2** Write a Python program to print all disarium numbers between 1 to 100?"
   ]
  },
  {
   "cell_type": "code",
   "execution_count": 11,
   "metadata": {},
   "outputs": [
    {
     "name": "stdout",
     "output_type": "stream",
     "text": [
      "Disarium numbers between 1 and 100 are as follows:\n",
      "1\n",
      "2\n",
      "3\n",
      "4\n",
      "5\n",
      "6\n",
      "7\n",
      "8\n",
      "9\n",
      "89\n"
     ]
    }
   ],
   "source": [
    "# **Ans**\n",
    "\n",
    "def Length_of(n):    \n",
    "    length = 0    \n",
    "    while(n != 0):    \n",
    "        length = length + 1    \n",
    "        n = n//10    \n",
    "    return length    \n",
    "     \n",
    "#sumOfnumbers() will calculates the sum of digits powered with their respective position.    \n",
    "def sumOfnumbers(num):    \n",
    "    rem = sum = 0    \n",
    "    len = Length_of(num)    \n",
    "        \n",
    "    while(num > 0):    \n",
    "        rem = num%10;    \n",
    "        sum = sum + (rem**len)    \n",
    "        num = num//10    \n",
    "        len = len - 1    \n",
    "    return sum;    \n",
    "      \n",
    "result = 0    \n",
    "     \n",
    "#Displays all disarium numbers between 1 and 100.    \n",
    "print(\"Disarium numbers between 1 and 100 are as follows:\")    \n",
    "for i in range(1, 101):    \n",
    "    result = sumOfnumbers(i)    \n",
    "        \n",
    "    if(result == i):    \n",
    "        print(i)    "
   ]
  },
  {
   "cell_type": "markdown",
   "metadata": {},
   "source": [
    "**Question No.3** Write a Python program to check if the given number is Happy Number?"
   ]
  },
  {
   "cell_type": "code",
   "execution_count": 7,
   "metadata": {},
   "outputs": [
    {
     "name": "stdout",
     "output_type": "stream",
     "text": [
      "82, It is a happy number\n"
     ]
    }
   ],
   "source": [
    "# **Ans**\n",
    "\n",
    "def It_isHappyNumber(num):    \n",
    "    rem = sum = 0    \n",
    "        \n",
    "    #Calculates the sum of squares of digits.    \n",
    "    while(num > 0):    \n",
    "        rem = num%10    \n",
    "        sum = sum + (rem*rem)    \n",
    "        num = num//10    \n",
    "    return sum    \n",
    "        \n",
    "num = 82    \n",
    "result = num    \n",
    "     \n",
    "while(result != 1 and result != 4):    \n",
    "    result = It_isHappyNumber(result)    \n",
    "     \n",
    "#Happy number will end with 1.    \n",
    "if(result == 1):    \n",
    "    print(str(num) + \", It is a happy number\")    \n",
    "#Unhappy number ends in a cycle of repeating numbers which contain 4.    \n",
    "elif(result == 4):    \n",
    "    print(str(num) + \", It is not a happy number\")  "
   ]
  },
  {
   "cell_type": "markdown",
   "metadata": {},
   "source": [
    "**Question No.4** Write a Python program to print all happy numbers between 1 and 100?"
   ]
  },
  {
   "cell_type": "code",
   "execution_count": 9,
   "metadata": {},
   "outputs": [
    {
     "name": "stdout",
     "output_type": "stream",
     "text": [
      "List of happy numbers between 1 and 100: \n",
      "1\n",
      " \n",
      "7\n",
      " \n",
      "10\n",
      " \n",
      "13\n",
      " \n",
      "19\n",
      " \n",
      "23\n",
      " \n",
      "28\n",
      " \n",
      "31\n",
      " \n",
      "32\n",
      " \n",
      "44\n",
      " \n",
      "49\n",
      " \n",
      "68\n",
      " \n",
      "70\n",
      " \n",
      "79\n",
      " \n",
      "82\n",
      " \n",
      "86\n",
      " \n",
      "91\n",
      " \n",
      "94\n",
      " \n",
      "97\n",
      " \n",
      "100\n",
      " \n"
     ]
    }
   ],
   "source": [
    "# **Ans**\n",
    "   \n",
    "def It_isHappyNumber(num):    \n",
    "    rem = sum = 0    \n",
    "        \n",
    "    #Calculates the sum of squares of digits.    \n",
    "    while(num > 0):    \n",
    "        rem = num%10    \n",
    "        sum = sum + (rem*rem)    \n",
    "        num = num//10    \n",
    "    return sum    \n",
    "            \n",
    "#Displays all happy numbers between 1 and 100    \n",
    "print(\"List of happy numbers between 1 and 100: \")    \n",
    "for i in range(1, 101):    \n",
    "    result = i    \n",
    "        \n",
    "    #Happy number will always end with 1 and unhappy number will end in a cycle of repeating numbers which contains 4.    \n",
    "    while(result != 1 and result != 4):    \n",
    "        result = It_isHappyNumber(result)    \n",
    "        \n",
    "    if(result == 1):    \n",
    "        print(i)    \n",
    "        print(\" \")    "
   ]
  },
  {
   "cell_type": "markdown",
   "metadata": {},
   "source": [
    "**Question No.5** Write a Python program to determine whether the given number is a Harshad Number?"
   ]
  },
  {
   "cell_type": "code",
   "execution_count": 12,
   "metadata": {},
   "outputs": [
    {
     "name": "stdout",
     "output_type": "stream",
     "text": [
      "312 is a harshad number\n"
     ]
    }
   ],
   "source": [
    "# **Ans**\n",
    "\n",
    "num = 312    \n",
    "rem = sum = 0    \n",
    "     \n",
    "#Store a copy of num in variable x.    \n",
    "x = num    \n",
    "     \n",
    "#Calculates sum of digits    \n",
    "while(num > 0):    \n",
    "    rem = num%10    \n",
    "    sum = sum + rem    \n",
    "    num = num//10    \n",
    "     \n",
    "#Check, number is divisible by the sum of digits or not.    \n",
    "if(x%sum == 0):    \n",
    "    print(str(x) + \" is a harshad number\")    \n",
    "else:    \n",
    "    print(str(x) + \" is not a harshad number\")   "
   ]
  },
  {
   "cell_type": "markdown",
   "metadata": {},
   "source": [
    "**Question No.6** Write a Python program to print all pronic numbers between 1 and 100?"
   ]
  },
  {
   "cell_type": "code",
   "execution_count": 13,
   "metadata": {},
   "outputs": [
    {
     "name": "stdout",
     "output_type": "stream",
     "text": [
      "Pronic numbers between 1 and 100: \n",
      "2\n",
      " \n",
      "6\n",
      " \n",
      "12\n",
      " \n",
      "20\n",
      " \n",
      "30\n",
      " \n",
      "42\n",
      " \n",
      "56\n",
      " \n",
      "72\n",
      " \n",
      "90\n",
      " \n"
     ]
    }
   ],
   "source": [
    "# **Ans**\n",
    "    \n",
    "def PronicNumber(num):    \n",
    "    flag = False    \n",
    "        \n",
    "    for j in range(1, num+1):    \n",
    "        #Checks for pronic number by multiplying consecutive numbers.    \n",
    "        if((j*(j+1)) == num):    \n",
    "            flag = True    \n",
    "            break    \n",
    "    return flag    \n",
    "     \n",
    "#It will display pronic numbers between 1 and 100.    \n",
    "print(\"Pronic numbers between 1 and 100: \")    \n",
    "for i in range(1, 101):    \n",
    "    if(PronicNumber(i)):    \n",
    "        print(i)    \n",
    "        print(\" \") "
   ]
  }
 ],
 "metadata": {
  "kernelspec": {
   "display_name": "Python 3",
   "language": "python",
   "name": "python3"
  },
  "language_info": {
   "codemirror_mode": {
    "name": "ipython",
    "version": 3
   },
   "file_extension": ".py",
   "mimetype": "text/x-python",
   "name": "python",
   "nbconvert_exporter": "python",
   "pygments_lexer": "ipython3",
   "version": "3.8.5"
  }
 },
 "nbformat": 4,
 "nbformat_minor": 4
}
