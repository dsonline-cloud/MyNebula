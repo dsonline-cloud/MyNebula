{
 "cells": [
  {
   "cell_type": "markdown",
   "metadata": {},
   "source": [
    "**Question No.1** Write a Python Program to find sum of array?"
   ]
  },
  {
   "cell_type": "code",
   "execution_count": 2,
   "metadata": {},
   "outputs": [
    {
     "name": "stdout",
     "output_type": "stream",
     "text": [
      "Sum of the array is  89\n",
      "<class 'list'>\n"
     ]
    }
   ],
   "source": [
    "#**Ans**\n",
    "\n",
    "# driver function\n",
    "arr = []\n",
    "  \n",
    "# input values to list.\n",
    "arr = [10, 17, 41, 21]\n",
    "  \n",
    "# sum() is an inbuilt function in python that adds all the elements in list,set and tuples and returns the value. \n",
    "ans = sum(arr)\n",
    "  \n",
    "# display sum\n",
    "print ('Sum of the array is ',ans)\n",
    "\n",
    "print(type(arr))"
   ]
  },
  {
   "cell_type": "markdown",
   "metadata": {},
   "source": [
    "**Question No.2** Write a Python Program to find largest element in an array?"
   ]
  },
  {
   "cell_type": "code",
   "execution_count": 4,
   "metadata": {},
   "outputs": [
    {
     "name": "stdout",
     "output_type": "stream",
     "text": [
      "Largest in given array is 9999\n"
     ]
    }
   ],
   "source": [
    "# **Ans**\n",
    "\n",
    "def largest(arr,n):\n",
    "  \n",
    "    # Initialize maximum element\n",
    "    max = arr[0]\n",
    "  \n",
    "    # Traverse array elements from second and compare every element with current maximum value.\n",
    "    for i in range(1, n):\n",
    "        if arr[i] > max:\n",
    "            max = arr[i]\n",
    "    return max\n",
    "  \n",
    "    \n",
    "arr = [198, 658, 456, 9999, 1111]\n",
    "n = len(arr)\n",
    "biggest = largest(arr,n)\n",
    "print (\"Largest in given array is\",biggest)"
   ]
  },
  {
   "cell_type": "markdown",
   "metadata": {},
   "source": [
    "**Question No.3** Write a Python Program for array rotation?"
   ]
  },
  {
   "cell_type": "code",
   "execution_count": 6,
   "metadata": {},
   "outputs": [
    {
     "name": "stdout",
     "output_type": "stream",
     "text": [
      "Array after left rotation is:  [31, 49, 70, 81, 7, 19, 39]\n"
     ]
    }
   ],
   "source": [
    "# **Ans**\n",
    "\n",
    "def rotateArray(arr, n, d):\n",
    "    temp = []\n",
    "    i = 0\n",
    "    while (i < d):\n",
    "        temp.append(arr[i])\n",
    "        i = i + 1\n",
    "    i = 0\n",
    "    while (d < n):\n",
    "        arr[i] = arr[d]\n",
    "        i = i + 1\n",
    "        d = d + 1\n",
    "    arr[:] = arr[: i] + temp\n",
    "    return arr\n",
    " \n",
    " \n",
    "# Driver function to test above function\n",
    "arr = [7, 19, 39, 31, 49, 70, 81]\n",
    "print(\"Array after left rotation is: \", end=' ')\n",
    "print(rotateArray(arr, len(arr), 3))"
   ]
  },
  {
   "cell_type": "markdown",
   "metadata": {},
   "source": [
    "**Question No.4** Write a Python Program to Split the array and add the first part to the end?"
   ]
  },
  {
   "cell_type": "code",
   "execution_count": 11,
   "metadata": {},
   "outputs": [
    {
     "name": "stdout",
     "output_type": "stream",
     "text": [
      "10 5 6 52 91 77 "
     ]
    }
   ],
   "source": [
    "# **Ans**\n",
    " \n",
    "def splitArr(arr, n, k):\n",
    "    for i in range(0, k):\n",
    "        x = arr[0]\n",
    "        for j in range(0, n-1):\n",
    "            arr[j] = arr[j + 1]\n",
    "         \n",
    "        arr[n-1] = x\n",
    "         \n",
    " \n",
    "arr = [77, 10, 9, 6, 52, 91]\n",
    "n = len(arr)\n",
    "position = 1\n",
    " \n",
    "splitArr(arr, n, position)\n",
    " \n",
    "for i in range(0, n):\n",
    "    print(arr[i], end = ' ')"
   ]
  },
  {
   "cell_type": "markdown",
   "metadata": {},
   "source": [
    "**Question No.5** Write a Python Program to check if given array is Monotonic?"
   ]
  },
  {
   "cell_type": "code",
   "execution_count": 13,
   "metadata": {},
   "outputs": [
    {
     "name": "stdout",
     "output_type": "stream",
     "text": [
      "True\n"
     ]
    }
   ],
   "source": [
    "# **Ans**\n",
    "\n",
    "def it_isMonotonic(A):\n",
    "  \n",
    "    return (all(A[i] <= A[i + 1] for i in range(len(A) - 1)) or\n",
    "            all(A[i] >= A[i + 1] for i in range(len(A) - 1)))\n",
    "  \n",
    "# Driver program\n",
    "A = [10, 5, 4, 3]\n",
    "  \n",
    "# Print required result.\n",
    "print(it_isMonotonic(A))"
   ]
  }
 ],
 "metadata": {
  "kernelspec": {
   "display_name": "Python 3",
   "language": "python",
   "name": "python3"
  },
  "language_info": {
   "codemirror_mode": {
    "name": "ipython",
    "version": 3
   },
   "file_extension": ".py",
   "mimetype": "text/x-python",
   "name": "python",
   "nbconvert_exporter": "python",
   "pygments_lexer": "ipython3",
   "version": "3.8.5"
  }
 },
 "nbformat": 4,
 "nbformat_minor": 4
}
