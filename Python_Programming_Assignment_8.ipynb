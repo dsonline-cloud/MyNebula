{
 "cells": [
  {
   "cell_type": "markdown",
   "metadata": {},
   "source": [
    "**Question No.1** Write a Python Program to Add Two Matrices?"
   ]
  },
  {
   "cell_type": "code",
   "execution_count": 1,
   "metadata": {},
   "outputs": [
    {
     "name": "stdout",
     "output_type": "stream",
     "text": [
      "[46, 74, 30]\n",
      "[74, 45, 69]\n",
      "[123, 105, 191]\n"
     ]
    }
   ],
   "source": [
    "# **Ans**\n",
    "\n",
    "X = [[15,9,15],\n",
    "    [53 ,6,21],\n",
    "    [77 ,51,96]]\n",
    "\n",
    "Y = [[31,65,15],\n",
    "    [21,39,48],\n",
    "    [46,54,95]]\n",
    "\n",
    "result = [[0,0,0],\n",
    "         [0,0,0],\n",
    "         [0,0,0]]\n",
    "\n",
    "# iterate through rows\n",
    "for i in range(len(X)):\n",
    "   # iterate through columns\n",
    "   for j in range(len(X[0])):\n",
    "       result[i][j] = X[i][j] + Y[i][j]\n",
    "\n",
    "for r in result:\n",
    "   print(r)"
   ]
  },
  {
   "cell_type": "markdown",
   "metadata": {},
   "source": [
    "**Question No.2** Write a Python Program to Multiply Two Matrices?"
   ]
  },
  {
   "cell_type": "code",
   "execution_count": 2,
   "metadata": {},
   "outputs": [
    {
     "name": "stdout",
     "output_type": "stream",
     "text": [
      "[269, 2795, 1809]\n",
      "[383, 848, 5586]\n",
      "[499, 1131, 5205]\n"
     ]
    }
   ],
   "source": [
    "# **Ans**\n",
    "\n",
    "# 3x3 matrix\n",
    "X = [[9,7,41],\n",
    "    [47 ,5,6],\n",
    "    [7 ,69,9]]\n",
    "\n",
    "# 3x3 matrix\n",
    "Y = [[7,9,111],\n",
    "    [6,7,63],\n",
    "    [4,65,9]]\n",
    "\n",
    "# result is 3x3\n",
    "result = [[0,0,0],\n",
    "         [0,0,0],\n",
    "         [0,0,0]]\n",
    "\n",
    "# iterate through rows of X\n",
    "for i in range(len(X)):\n",
    "   # iterate through columns of Y\n",
    "   for j in range(len(Y[0])):\n",
    "       # iterate through rows of Y\n",
    "       for k in range(len(Y)):\n",
    "           result[i][j] += X[i][k] * Y[k][j]\n",
    "\n",
    "for r in result:\n",
    "   print(r)\n"
   ]
  },
  {
   "cell_type": "markdown",
   "metadata": {},
   "source": [
    "**Question No.3** Write a Python Program to Transpose a Matrix?"
   ]
  },
  {
   "cell_type": "code",
   "execution_count": 5,
   "metadata": {},
   "outputs": [
    {
     "name": "stdout",
     "output_type": "stream",
     "text": [
      "Result matrix is\n",
      "1  3  5  \n",
      "1  2  3  \n",
      "1  2  3  \n",
      "5  7  9  \n"
     ]
    }
   ],
   "source": [
    "# **Ans**\n",
    "  \n",
    "N = 4\n",
    "   \n",
    "# This function stores\n",
    "# transpose of A[][] in B[][]\n",
    "  \n",
    "M = 3\n",
    "N = 4\n",
    "  \n",
    "def transpose(A, B):\n",
    "  \n",
    "    for i in range(N):\n",
    "        for j in range(M):\n",
    "            B[i][j] = A[j][i]\n",
    "  \n",
    "# driver code\n",
    "A = [ [1, 1, 1, 5],\n",
    "    [3, 2, 2, 7],\n",
    "    [5, 3, 3, 9]]\n",
    "  \n",
    "  \n",
    "# To store result\n",
    "B = [[0 for x in range(M)] for y in range(N)] \n",
    "  \n",
    "transpose(A, B)\n",
    "  \n",
    "print(\"Result matrix is\")\n",
    "for i in range(N):\n",
    "    for j in range(M):\n",
    "        print(B[i][j], \" \", end='')\n",
    "    print()    "
   ]
  },
  {
   "cell_type": "markdown",
   "metadata": {},
   "source": [
    "**Question No.4** Write a Python Program to Sort Words in Alphabetic Order?"
   ]
  },
  {
   "cell_type": "code",
   "execution_count": 2,
   "metadata": {},
   "outputs": [
    {
     "name": "stdout",
     "output_type": "stream",
     "text": [
      "The sorted words are:\n",
      "brown\n",
      "dog.\n",
      "fox\n",
      "jumps\n",
      "lazy\n",
      "over\n",
      "quick\n",
      "the\n",
      "the\n"
     ]
    }
   ],
   "source": [
    "# **Ans**\n",
    "\n",
    "first_str = \"the quick brown fox jumps over the lazy dog.\"\n",
    "\n",
    "# To take input from the user.\n",
    "#first_str = input(\"Enter a string: \")\n",
    "\n",
    "# sort the list\n",
    "words= first_str.split()\n",
    "words.sort()\n",
    "\n",
    "# display the sorted words\n",
    "\n",
    "print(\"The sorted words are:\")\n",
    "for word in words:\n",
    "   print(word)"
   ]
  },
  {
   "cell_type": "markdown",
   "metadata": {},
   "source": [
    "**Question No.5** Write a Python Program to Remove Punctuation From a String?"
   ]
  },
  {
   "cell_type": "code",
   "execution_count": 4,
   "metadata": {},
   "outputs": [
    {
     "name": "stdout",
     "output_type": "stream",
     "text": [
      "I am going to Ravis house\n"
     ]
    }
   ],
   "source": [
    "# **Ans**\n",
    "\n",
    "# define punctuation  \n",
    "punctuation = '''!()-[]{};:'\"\\,<>./?@#$%^&*_~'''  \n",
    "# take input from the user.  \n",
    "my_str = \"I am going to Ravi's house.\"  \n",
    "# remove punctuation from the string  \n",
    "no_punct = \"\"  \n",
    "for char in my_str:  \n",
    "   if char not in punctuation:  \n",
    "       no_punct = no_punct + char  \n",
    "# display the unpunctuated string  \n",
    "print(no_punct)  "
   ]
  }
 ],
 "metadata": {
  "kernelspec": {
   "display_name": "Python 3",
   "language": "python",
   "name": "python3"
  },
  "language_info": {
   "codemirror_mode": {
    "name": "ipython",
    "version": 3
   },
   "file_extension": ".py",
   "mimetype": "text/x-python",
   "name": "python",
   "nbconvert_exporter": "python",
   "pygments_lexer": "ipython3",
   "version": "3.8.5"
  }
 },
 "nbformat": 4,
 "nbformat_minor": 4
}
