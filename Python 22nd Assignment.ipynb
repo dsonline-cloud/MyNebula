{
 "cells": [
  {
   "cell_type": "markdown",
   "metadata": {},
   "source": [
    "**Question No.1** What is the result of the code, and explain?\n",
    "X = 'iNeuron'\n",
    "def func():\n",
    "    print(X)\n",
    "\n",
    "func()"
   ]
  },
  {
   "cell_type": "code",
   "execution_count": 12,
   "metadata": {},
   "outputs": [
    {
     "name": "stdout",
     "output_type": "stream",
     "text": [
      "iNeuron\n"
     ]
    }
   ],
   "source": [
    "#**Answer**\n",
    "\n",
    "# In the context of programming, a function is a named sequence of statements that performs a desired operation. This operation is specified in a function definition.\n",
    "# In Python, the syntax for a function definition is:\n",
    "X = 'iNeuron'\n",
    "def func():\n",
    "    print(X)\n",
    "\n",
    "func()\n",
    "# Here we are calling the function so it will print the body or the block of code present in function here."
   ]
  },
  {
   "cell_type": "markdown",
   "metadata": {},
   "source": [
    "**Question No.2** What is the result of the code, and explain?\n",
    "X = 'Neuron'\n",
    "def func():\n",
    "    X = NI\n",
    "\n",
    "func()\n",
    "print(X)"
   ]
  },
  {
   "cell_type": "code",
   "execution_count": 13,
   "metadata": {},
   "outputs": [
    {
     "name": "stdout",
     "output_type": "stream",
     "text": [
      "Neuron\n"
     ]
    }
   ],
   "source": [
    "#**Answer**\n",
    "\n",
    "X = 'Neuron'\n",
    "def func():\n",
    "    X = 'NI'\n",
    "\n",
    "\n",
    "print(X)\n",
    "func()\n",
    "# Since func() does not have a return statement with a value, it returns a None value, which is assigned to result. \n",
    "# None values don’t display in the Python shell unless they are explicited printed. \n",
    "# While print(X) will print the Neuron because it is assigned to the variable X."
   ]
  },
  {
   "cell_type": "markdown",
   "metadata": {},
   "source": [
    "**Question No.3** What does this code print, and why?\n",
    "X = 'iNeuron'\n",
    "def func():\n",
    "X = 'NI!'\n",
    "print(X)\n",
    "\n",
    "func()\n",
    "print(X)"
   ]
  },
  {
   "cell_type": "code",
   "execution_count": 15,
   "metadata": {},
   "outputs": [
    {
     "name": "stdout",
     "output_type": "stream",
     "text": [
      "NI\n",
      "iNeuron\n"
     ]
    }
   ],
   "source": [
    "#**Answer**\n",
    "\n",
    "X = 'iNeuron'\n",
    "def func():\n",
    "    X = 'NI'\n",
    "    \n",
    "    #Here 'X' is the local variable.\n",
    "    print(X)\n",
    "\n",
    "func() #It will print the variable mentioned in the body of function because it includes a print statement to print the variable.\n",
    "print(X) #It will print the value 'iNeuron' because this value is assigned to it in the code."
   ]
  },
  {
   "cell_type": "code",
   "execution_count": 1,
   "metadata": {},
   "outputs": [
    {
     "name": "stdout",
     "output_type": "stream",
     "text": [
      "Object `Why` not found.\n",
      "NI\n"
     ]
    }
   ],
   "source": [
    "What output does this code produce? Why?\n",
    "\n",
    "X = 'iNeuron'\n",
    "def func():\n",
    "    global X\n",
    "    X = 'NI'\n",
    "\n",
    "func()\n",
    "print(X)"
   ]
  },
  {
   "cell_type": "code",
   "execution_count": null,
   "metadata": {},
   "outputs": [],
   "source": []
  },
  {
   "cell_type": "code",
   "execution_count": null,
   "metadata": {},
   "outputs": [],
   "source": []
  },
  {
   "cell_type": "code",
   "execution_count": null,
   "metadata": {},
   "outputs": [],
   "source": []
  },
  {
   "cell_type": "code",
   "execution_count": null,
   "metadata": {},
   "outputs": [],
   "source": []
  },
  {
   "cell_type": "code",
   "execution_count": null,
   "metadata": {},
   "outputs": [],
   "source": []
  }
 ],
 "metadata": {
  "kernelspec": {
   "display_name": "Python 3",
   "language": "python",
   "name": "python3"
  },
  "language_info": {
   "codemirror_mode": {
    "name": "ipython",
    "version": 3
   },
   "file_extension": ".py",
   "mimetype": "text/x-python",
   "name": "python",
   "nbconvert_exporter": "python",
   "pygments_lexer": "ipython3",
   "version": "3.8.5"
  }
 },
 "nbformat": 4,
 "nbformat_minor": 4
}
