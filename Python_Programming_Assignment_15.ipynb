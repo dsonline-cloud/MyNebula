{
 "cells": [
  {
   "cell_type": "markdown",
   "id": "573864b5",
   "metadata": {},
   "source": [
    "**Question No.1** Please write a program using generator to print the numbers which can be divisible by 5 and 7 between 0 and n in comma separated form while n is input by console.\n",
    "Example:\n",
    "If the following n is given as input to the program:\n",
    "100\n",
    "Then, the output of the program should be:\n",
    "0,35,70\n"
   ]
  },
  {
   "cell_type": "code",
   "execution_count": 7,
   "id": "e1822b1b",
   "metadata": {},
   "outputs": [
    {
     "name": "stdout",
     "output_type": "stream",
     "text": [
      "Enter the number: 150\n",
      "0,35,70,105,140\n"
     ]
    }
   ],
   "source": [
    "# **Ans**\n",
    "\n",
    "def NumGenerator(n):\n",
    "    for i in range(n+1):\n",
    "        if i%5==0 and i%7==0:\n",
    "            yield i\n",
    "\n",
    "n=int(input(\"Enter the number: \"))\n",
    "values = []\n",
    "for i in NumGenerator(n):\n",
    "    values.append(str(i))\n",
    "\n",
    "print(\",\".join(values))"
   ]
  },
  {
   "cell_type": "markdown",
   "id": "2a0a0f4b",
   "metadata": {},
   "source": [
    "**Question No.2** Please write a program using generator to print the even numbers between 0 and n in comma separated form while n is input by console.\n",
    "Example:\n",
    "If the following n is given as input to the program:\n",
    "10\n",
    "Then, the output of the program should be:\n",
    "0,2,4,6,8,10\n"
   ]
  },
  {
   "cell_type": "code",
   "execution_count": 5,
   "id": "c9a8611c",
   "metadata": {},
   "outputs": [
    {
     "name": "stdout",
     "output_type": "stream",
     "text": [
      "Enter the value: 16\n",
      "0,2,4,6,8,10,12,14,16\n"
     ]
    }
   ],
   "source": [
    "# **Ans**\n",
    "\n",
    "n = int(input(\"Enter the value: \"))\n",
    "\n",
    "for i in range(0, n+1, 2):\n",
    "  if i < n - 1:\n",
    "    print(i, end = ',' )\n",
    "  else:\n",
    "    print(i)"
   ]
  },
  {
   "cell_type": "markdown",
   "id": "23f14798",
   "metadata": {},
   "source": [
    "**Question No.3** The Fibonacci Sequence is computed based on the following formula:\n",
    "f(n)=0 if n=0\n",
    "f(n)=1 if n=1\n",
    "f(n)=f(n-1)+f(n-2) if n>1\n",
    "Please write a program using list comprehension to print the Fibonacci Sequence in comma separated form with a given n input by console.\n",
    "Example:\n",
    "If the following n is given as input to the program:\n",
    "7\n",
    "\n",
    "Then, the output of the program should be:\n",
    "0,1,1,2,3,5,8,13\n"
   ]
  },
  {
   "cell_type": "code",
   "execution_count": 10,
   "id": "9ba1beef",
   "metadata": {},
   "outputs": [
    {
     "name": "stdout",
     "output_type": "stream",
     "text": [
      "9\n",
      "0,1,1,2,3,5,8,13,21,34\n"
     ]
    }
   ],
   "source": [
    "# **Ans**\n",
    "\n",
    "def fibo(n):\n",
    "    if n < 2: return n\n",
    "    return fibo(n-1)+fibo(n-2)\n",
    "\n",
    "def print_fiblist(n):\n",
    "    fib_list = [(str(fibo(i))) for i in range(0, n+1)]\n",
    "    return print(\",\".join(fib_list))\n",
    "n = int(input())\n",
    "print_fiblist(n)"
   ]
  },
  {
   "cell_type": "markdown",
   "id": "f57db79a",
   "metadata": {},
   "source": [
    "**Question No.4** Assuming that we have some email addresses in the \"username@companyname.com\" format, please write program to print the user name of a given email address. Both user names and company names are composed of letters only.\n",
    "Example:\n",
    "If the following email address is given as input to the program:\n",
    "john@google.com\n",
    "Then, the output of the program should be:\n",
    "john\n"
   ]
  },
  {
   "cell_type": "code",
   "execution_count": 14,
   "id": "4c3dfe6b",
   "metadata": {},
   "outputs": [
    {
     "name": "stdout",
     "output_type": "stream",
     "text": [
      "Enter the email id: good@gmail.com\n",
      "['good']\n"
     ]
    }
   ],
   "source": [
    "# **Ans**\n",
    "\n",
    "import re\n",
    "\n",
    "email = input(\"Enter the email id: \")\n",
    "pattern = \"(\\w+)@\\w+.com\"\n",
    "user_name = re.findall(pattern,email)\n",
    "print(user_name)"
   ]
  },
  {
   "cell_type": "markdown",
   "id": "bc24c8b6",
   "metadata": {},
   "source": [
    "**Question No.5** Define a class named Shape and its subclass Square. The Square class has an init function which takes a length as argument. Both classes have a area function which can print the area of the shape where Shape's area is 0 by default."
   ]
  },
  {
   "cell_type": "code",
   "execution_count": 15,
   "id": "e8f6dfca",
   "metadata": {},
   "outputs": [
    {
     "name": "stdout",
     "output_type": "stream",
     "text": [
      "25\n",
      "0\n"
     ]
    }
   ],
   "source": [
    "# **Ans**\n",
    "\n",
    "class Shape():\n",
    "    def __init__(self):\n",
    "        pass\n",
    "\n",
    "    def area(self):\n",
    "        return 0\n",
    "\n",
    "class Square(Shape):\n",
    "    def __init__(self,length = 0):\n",
    "        Shape.__init__(self)\n",
    "        self.length = length\n",
    "\n",
    "    def area(self):\n",
    "        return self.length*self.length\n",
    "\n",
    "A_square = Square(5)\n",
    "print(A_square.area())     \n",
    "\n",
    "print(Square().area())"
   ]
  }
 ],
 "metadata": {
  "kernelspec": {
   "display_name": "Python 3",
   "language": "python",
   "name": "python3"
  },
  "language_info": {
   "codemirror_mode": {
    "name": "ipython",
    "version": 3
   },
   "file_extension": ".py",
   "mimetype": "text/x-python",
   "name": "python",
   "nbconvert_exporter": "python",
   "pygments_lexer": "ipython3",
   "version": "3.8.8"
  }
 },
 "nbformat": 4,
 "nbformat_minor": 5
}
