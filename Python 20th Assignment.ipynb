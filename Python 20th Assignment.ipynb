{
 "cells": [
  {
   "cell_type": "markdown",
   "metadata": {},
   "source": [
    "**Question No.1** Set the variable test1 to the string 'This is a test of the emergency text system,' and save test1 to a file named test.txt?"
   ]
  },
  {
   "cell_type": "code",
   "execution_count": 1,
   "metadata": {},
   "outputs": [],
   "source": [
    "#**Anwer**\n",
    "\n",
    "test1 = 'This is a test of the emergency text system'\n",
    "\n",
    "Noble= open('test.txt', 'wt')\n",
    "Noble.write(test1)\n",
    "Noble.close()"
   ]
  },
  {
   "cell_type": "markdown",
   "metadata": {},
   "source": [
    "**Question No.2** Read the contents of the file test.txt into the variable test2. Is there a difference between test 1 and test 2?"
   ]
  },
  {
   "cell_type": "code",
   "execution_count": 2,
   "metadata": {},
   "outputs": [
    {
     "name": "stdout",
     "output_type": "stream",
     "text": [
      "This is a test of the emergency text system\n"
     ]
    }
   ],
   "source": [
    "#**Anwer**\n",
    "\n",
    "with open('test.txt', 'rt') as winterfell:\n",
    "    test2= winterfell.read()\n",
    "print(test2)    "
   ]
  },
  {
   "cell_type": "markdown",
   "metadata": {},
   "source": [
    "**Question No.3** Create a CSV file called books.csv by using these lines:\n",
    "title,author,year\n",
    "The Weirdstone of Brisingamen,Alan Garner,1960\n",
    "Perdido Street Station,China Miéville,2000\n",
    "Thud!,Terry Pratchett,2005\n",
    "The Spellman Files,Lisa Lutz,2007\n",
    "Small Gods,Terry Pratchett,1992"
   ]
  },
  {
   "cell_type": "code",
   "execution_count": 12,
   "metadata": {},
   "outputs": [
    {
     "name": "stdout",
     "output_type": "stream",
     "text": [
      "225\n"
     ]
    }
   ],
   "source": [
    "#**Anwer**\n",
    "\n",
    "text = '''title,author,year\n",
    "    The Weirdstone of Brisingamen, Alan Garner, 1960\n",
    "    Perdido Street Station, China Miéville, 2000\n",
    "    Thud!, Terry Pratchett, 2005\n",
    "    The Spellman Files, Lisa Lutz, 2007\n",
    "    Small Gods, Terry Pratchett, 1992\n",
    "     '''\n",
    "with open('books.csv', 'w') as literature:\n",
    "    good= literature.write(text)\n",
    "    \n",
    "print(good)    "
   ]
  },
  {
   "cell_type": "markdown",
   "metadata": {},
   "source": [
    "**Question No.4** Use the sqlite3 module to create a SQLite database called books.db, and a table called books with these fields: title (text), author (text), and year (integer)."
   ]
  },
  {
   "cell_type": "code",
   "execution_count": 14,
   "metadata": {},
   "outputs": [],
   "source": [
    "#**Anwer**\n",
    "\n",
    "import sqlite3\n",
    "db = sqlite3.connect('books.db')\n",
    "curs = db.cursor()\n",
    "curs.execute('''create table book (title text, author text, year int)''')\n",
    "\n",
    "db.commit()"
   ]
  },
  {
   "cell_type": "markdown",
   "metadata": {},
   "source": [
    "**Question No.5** Read books.csv and insert its data into the book table?"
   ]
  },
  {
   "cell_type": "code",
   "execution_count": 19,
   "metadata": {
    "scrolled": false
   },
   "outputs": [],
   "source": [
    "#**Anwer**\n",
    "\n",
    "import csv\n",
    "import sqlite3\n",
    "ins_str = 'insert into book values(?, ?, ?)'\n",
    "with open('books.csv', 'rt') as newfile:\n",
    "    books = csv.DictReader(newfile)\n",
    "    for book in books:\n",
    "        curs.execute(ins_str, (book['title'], book['author'], book['year']))\n",
    "        \n",
    "db.commit()        "
   ]
  },
  {
   "cell_type": "markdown",
   "metadata": {},
   "source": [
    "**Question No.6** Select and print the title column from the book table in alphabetical order."
   ]
  },
  {
   "cell_type": "code",
   "execution_count": 20,
   "metadata": {},
   "outputs": [
    {
     "name": "stdout",
     "output_type": "stream",
     "text": [
      "('     ',)\n",
      "('     ',)\n",
      "('    Perdido Street Station',)\n",
      "('    Perdido Street Station',)\n",
      "('    Small God',)\n",
      "('    Small God',)\n",
      "('    The Spellman Files',)\n",
      "('    The Spellman Files',)\n",
      "('    The Weirdstone of Brisingamen',)\n",
      "('    The Weirdstone of Brisingamen',)\n",
      "('    Thud!',)\n",
      "('    Thud!',)\n"
     ]
    }
   ],
   "source": [
    "sql = 'select title from book order by title asc'\n",
    "for row in db.execute(sql):\n",
    "     print(row)\n"
   ]
  },
  {
   "cell_type": "markdown",
   "metadata": {},
   "source": [
    "**Question No.7** From the book table, select and print all columns in the order of publication?"
   ]
  },
  {
   "cell_type": "code",
   "execution_count": 22,
   "metadata": {},
   "outputs": [
    {
     "name": "stdout",
     "output_type": "stream",
     "text": [
      "('     ', None, None)\n",
      "('     ', None, None)\n",
      "('    The Weirdstone of Brisingamen', 'Alan Garner', 1960)\n",
      "('    The Weirdstone of Brisingamen', 'Alan Garner', 1960)\n",
      "('    Small God', 'Terry Pratchett', 1992)\n",
      "('    Small God', 'Terry Pratchett', 1992)\n",
      "('    Perdido Street Station', 'China Miéville', 2000)\n",
      "('    Perdido Street Station', 'China Miéville', 2000)\n",
      "('    Thud!', 'Terry Pratchett', 2005)\n",
      "('    Thud!', 'Terry Pratchett', 2005)\n",
      "('    The Spellman Files', 'Lisa Lutz', 2007)\n",
      "('    The Spellman Files', 'Lisa Lutz', 2007)\n"
     ]
    }
   ],
   "source": [
    "#**Answer**\n",
    "\n",
    "for row in db.execute('select * from book order by year'):\n",
    "     print(row)"
   ]
  },
  {
   "cell_type": "markdown",
   "metadata": {},
   "source": [
    "**Question No.8** Use the sqlalchemy module to connect to the sqlite3 database books.db that you just made in exercise 6."
   ]
  },
  {
   "cell_type": "code",
   "execution_count": 23,
   "metadata": {},
   "outputs": [
    {
     "name": "stdout",
     "output_type": "stream",
     "text": [
      "('     ',)\n",
      "('     ',)\n",
      "('    Perdido Street Station',)\n",
      "('    Perdido Street Station',)\n",
      "('    Small God',)\n",
      "('    Small God',)\n",
      "('    The Spellman Files',)\n",
      "('    The Spellman Files',)\n",
      "('    The Weirdstone of Brisingamen',)\n",
      "('    The Weirdstone of Brisingamen',)\n",
      "('    Thud!',)\n",
      "('    Thud!',)\n"
     ]
    }
   ],
   "source": [
    "#**Answer**\n",
    "\n",
    "import sqlalchemy\n",
    "conn = sqlalchemy.create_engine('sqlite:///books.db')\n",
    "sql = 'select title from book order by title asc'\n",
    "rows = conn.execute(sql)\n",
    "for row in rows:\n",
    "    print(row)"
   ]
  },
  {
   "cell_type": "markdown",
   "metadata": {},
   "source": [
    "**Question No.9** Install the Redis server and the Python redis library (pip install redis) on your computer. Create a Redis hash called test with the fields count (1) and name ('Fester Bestertester'). Print all the fields for test."
   ]
  },
  {
   "cell_type": "code",
   "execution_count": 27,
   "metadata": {},
   "outputs": [],
   "source": [
    "#**Answer**\n",
    "\n",
    "\n",
    "import redis\n",
    "cleopatra = redis.Redis()\n",
    "cleopatra.delete('test')\n",
    "\n",
    "cleopatra.hmset('test', {'count': 1, 'name': 'Fester Bestertester'})\n",
    "\n",
    "cleopatra.hgetall('test')"
   ]
  },
  {
   "cell_type": "markdown",
   "metadata": {},
   "source": [
    "**Question No.10** Increment the count field of test and print it."
   ]
  },
  {
   "cell_type": "code",
   "execution_count": null,
   "metadata": {},
   "outputs": [],
   "source": [
    "#**Answer**\n",
    "\n",
    "cleopatra.hincrby('test', 'count', 3)\n",
    "\n",
    "cleopatra.hget('test', 'count')\n"
   ]
  }
 ],
 "metadata": {
  "kernelspec": {
   "display_name": "Python 3",
   "language": "python",
   "name": "python3"
  },
  "language_info": {
   "codemirror_mode": {
    "name": "ipython",
    "version": 3
   },
   "file_extension": ".py",
   "mimetype": "text/x-python",
   "name": "python",
   "nbconvert_exporter": "python",
   "pygments_lexer": "ipython3",
   "version": "3.8.5"
  }
 },
 "nbformat": 4,
 "nbformat_minor": 4
}
