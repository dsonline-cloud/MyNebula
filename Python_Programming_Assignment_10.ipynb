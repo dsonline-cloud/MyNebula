{
 "cells": [
  {
   "cell_type": "markdown",
   "metadata": {},
   "source": [
    "**Question No.1** Write a Python program to find sum of elements in list?"
   ]
  },
  {
   "cell_type": "code",
   "execution_count": 1,
   "metadata": {},
   "outputs": [
    {
     "name": "stdout",
     "output_type": "stream",
     "text": [
      "Sum of all elements in given list:  547\n"
     ]
    }
   ],
   "source": [
    "# **Ans**\n",
    "\n",
    "total = 0\n",
    " \n",
    "# creating a list\n",
    "list1 = [98, 125, 66, 19, 239]\n",
    " \n",
    "# Iterate each element in list and add them in variale total.\n",
    "for ele in range(0, len(list1)):\n",
    "    total = total + list1[ele]\n",
    " \n",
    "# printing total value\n",
    "print(\"Sum of all elements in given list: \", total)"
   ]
  },
  {
   "cell_type": "markdown",
   "metadata": {},
   "source": [
    "**Question No.2** Write a Python program to  Multiply all numbers in the list?"
   ]
  },
  {
   "cell_type": "code",
   "execution_count": 5,
   "metadata": {},
   "outputs": [
    {
     "name": "stdout",
     "output_type": "stream",
     "text": [
      "1680\n",
      "8100\n"
     ]
    }
   ],
   "source": [
    "# **Ans**\n",
    "\n",
    "def multiplyNos(myList) :\n",
    "     \n",
    "    # Multiply elements one by one.\n",
    "    result = 1\n",
    "    for x in myList:\n",
    "         result = result * x\n",
    "    return result\n",
    "     \n",
    "list1 = [5, 6, 7, 8]\n",
    "list2 = [10, 9, 5, 18]\n",
    "print(multiplyNos(list1))\n",
    "print(multiplyNos(list2))"
   ]
  },
  {
   "cell_type": "markdown",
   "metadata": {},
   "source": [
    "**Question No.3** Write a Python program to find smallest number in a list?"
   ]
  },
  {
   "cell_type": "code",
   "execution_count": 9,
   "metadata": {},
   "outputs": [
    {
     "name": "stdout",
     "output_type": "stream",
     "text": [
      "Smallest number is: 7\n"
     ]
    }
   ],
   "source": [
    "# **Ans**\n",
    "\n",
    "list1 = [100, 50, 7, 45, 99]\n",
    " \n",
    " \n",
    "# printing the smallest element.\n",
    "print(\"Smallest number is:\", min(list1))"
   ]
  },
  {
   "cell_type": "markdown",
   "metadata": {},
   "source": [
    "**Question No.4** Write a Python program to find largest number in a list?"
   ]
  },
  {
   "cell_type": "code",
   "execution_count": 10,
   "metadata": {},
   "outputs": [
    {
     "name": "stdout",
     "output_type": "stream",
     "text": [
      "Largest number is: 100\n"
     ]
    }
   ],
   "source": [
    "# **Ans**\n",
    "\n",
    "list1 = [100, 50, 7, 45, 99]\n",
    " \n",
    " \n",
    "# printing the largest element.\n",
    "print(\"Largest number is:\", max(list1))"
   ]
  },
  {
   "cell_type": "markdown",
   "metadata": {},
   "source": [
    "**Question No.5** Write a Python program to find second largest number in a list?"
   ]
  },
  {
   "cell_type": "code",
   "execution_count": 18,
   "metadata": {},
   "outputs": [
    {
     "name": "stdout",
     "output_type": "stream",
     "text": [
      "Second highest number is :  45\n"
     ]
    }
   ],
   "source": [
    "# **Ans**\n",
    "\n",
    "list1 = [10, 20, 4, 45, 99]\n",
    " \n",
    "largest = max(list1[0],list1[1])\n",
    "secondlargest = min(list1[0],list1[1])\n",
    "n =len(list1)\n",
    "for i in range(2,n):\n",
    "    if list1[i]>largest:\n",
    "        secondlargest=largest\n",
    "        largest= list1[i]\n",
    "    elif list1[i]>secondlargest and largest == list1[i]:\n",
    "        secondlargest= list1[i]\n",
    " \n",
    "print(\"Second highest number is : \", str(secondlargest))"
   ]
  },
  {
   "cell_type": "markdown",
   "metadata": {},
   "source": [
    "**Question No.6** Write a Python program to find N largest elements from a list?"
   ]
  },
  {
   "cell_type": "code",
   "execution_count": 23,
   "metadata": {},
   "outputs": [
    {
     "name": "stdout",
     "output_type": "stream",
     "text": [
      "[98, 61]\n"
     ]
    }
   ],
   "source": [
    "# **Ans**\n",
    "\n",
    "def Nlarge_elements(list1, N):\n",
    "    final_list = []\n",
    "  \n",
    "    for i in range(0, N): \n",
    "        max1 = 0\n",
    "          \n",
    "        for j in range(len(list1)):     \n",
    "            if list1[j] > max1:\n",
    "                max1 = list1[j]\n",
    "                  \n",
    "        list1.remove(max1);\n",
    "        final_list.append(max1)\n",
    "          \n",
    "    print(final_list)\n",
    "  \n",
    "\n",
    "list1 = [8, 6, 61, 98, 0, 3, 7, 6, 10]\n",
    "N = 2\n",
    "  \n",
    "# Calling the function\n",
    "Nlarge_elements(list1, N)"
   ]
  },
  {
   "cell_type": "markdown",
   "metadata": {},
   "source": [
    "**Question No.7** Write a Python program to print even numbers in a list?"
   ]
  },
  {
   "cell_type": "code",
   "execution_count": 27,
   "metadata": {},
   "outputs": [
    {
     "name": "stdout",
     "output_type": "stream",
     "text": [
      "10 4 44 412 "
     ]
    }
   ],
   "source": [
    "# **Ans**\n",
    "\n",
    "list1 = [10, 21, 4, 45, 44, 412]\n",
    "  \n",
    "for num in list1:\n",
    "      \n",
    "    # checking condition\n",
    "    if num % 2 == 0:\n",
    "       print(num, end = \" \")"
   ]
  },
  {
   "cell_type": "markdown",
   "metadata": {},
   "source": [
    "**Question No.8** Write a Python program to print odd numbers in a List?"
   ]
  },
  {
   "cell_type": "code",
   "execution_count": 28,
   "metadata": {},
   "outputs": [
    {
     "name": "stdout",
     "output_type": "stream",
     "text": [
      "21 45 "
     ]
    }
   ],
   "source": [
    "# **Ans**\n",
    "\n",
    "list1 = [10, 21, 4, 45, 44, 412]\n",
    "  \n",
    "for num in list1:\n",
    "      \n",
    "    # checking condition\n",
    "    if num % 2 != 0:\n",
    "       print(num, end = \" \")"
   ]
  },
  {
   "cell_type": "markdown",
   "metadata": {},
   "source": [
    "**Question No.9** Write a Python program to Remove empty List from List?"
   ]
  },
  {
   "cell_type": "code",
   "execution_count": 29,
   "metadata": {},
   "outputs": [
    {
     "name": "stdout",
     "output_type": "stream",
     "text": [
      "The original list is : [55, 6, [], 3, [], [], 61, 89]\n",
      "List after empty list removal : [55, 6, 3, 61, 89]\n"
     ]
    }
   ],
   "source": [
    "# **Ans**\n",
    "\n",
    "test_list = [55, 6, [], 3, [], [], 61, 89]\n",
    "  \n",
    "# printing original list \n",
    "print(\"The original list is : \" + str(test_list))\n",
    "  \n",
    "# Remove empty List from List using filter.\n",
    "Newlist = list(filter(None, test_list))\n",
    "  \n",
    "# printing result \n",
    "print (\"List after empty list removal : \" + str(Newlist))"
   ]
  },
  {
   "cell_type": "markdown",
   "metadata": {},
   "source": [
    "**Question No.10** Write a Python program to Cloning or Copying a list?"
   ]
  },
  {
   "cell_type": "code",
   "execution_count": 31,
   "metadata": {},
   "outputs": [
    {
     "name": "stdout",
     "output_type": "stream",
     "text": [
      "It is the original list:  [55, 6, 3, 61, 89]\n",
      "It is the cloned list:  [55, 6, 3, 61, 89]\n"
     ]
    }
   ],
   "source": [
    "# **Ans**\n",
    "\n",
    "a= [55, 6, 3, 61, 89]\n",
    "b= a[:]\n",
    "\n",
    "print(\"It is the original list: \",a)\n",
    "print(\"It is the cloned list: \",b)"
   ]
  },
  {
   "cell_type": "markdown",
   "metadata": {},
   "source": [
    "**Question No.11** Write a Python program to Count occurrences of an element in a list?"
   ]
  },
  {
   "cell_type": "code",
   "execution_count": 37,
   "metadata": {},
   "outputs": [
    {
     "name": "stdout",
     "output_type": "stream",
     "text": [
      "8 has occurred 5 times\n"
     ]
    }
   ],
   "source": [
    "# **Ans**\n",
    "\n",
    "def countN(list1, n):\n",
    "    count = 0\n",
    "    for x in list1:\n",
    "        if (x == n):\n",
    "            count = count + 1\n",
    "    return count\n",
    " \n",
    "# Driver Code\n",
    "list1 = [8, 6, 8, 10, 8, 20, 10, 8, 8]\n",
    "n = 8\n",
    "print('{} has occurred {} times'.format(n, countN(list1, n)))"
   ]
  }
 ],
 "metadata": {
  "kernelspec": {
   "display_name": "Python 3",
   "language": "python",
   "name": "python3"
  },
  "language_info": {
   "codemirror_mode": {
    "name": "ipython",
    "version": 3
   },
   "file_extension": ".py",
   "mimetype": "text/x-python",
   "name": "python",
   "nbconvert_exporter": "python",
   "pygments_lexer": "ipython3",
   "version": "3.8.5"
  }
 },
 "nbformat": 4,
 "nbformat_minor": 4
}
