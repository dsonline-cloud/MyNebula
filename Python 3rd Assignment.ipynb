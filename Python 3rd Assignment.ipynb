{
 "cells": [
  {
   "cell_type": "markdown",
   "metadata": {},
   "source": [
    "**Question No. 1** Why are functions advantageous to have in your programs?"
   ]
  },
  {
   "cell_type": "markdown",
   "metadata": {},
   "source": [
    "**Answer**\n",
    "\n",
    "Functions have so many advantages in any program as follows:\n",
    "Python function => A function is a block of reusable code that is used to perform a specific action.\n",
    "\n",
    "**These are some major advantages of functions:**\n",
    "1. It reduces the duplication of code\n",
    "2. Decomposing complex problems into simpler pieces\n",
    "3. It improves the clarity of the code and it becomes more readable\n",
    "4. It makes the code reusable you can reuse the same code multiple times.\n",
    "5. It helps us in hiding some specific information also.\n",
    "Functions in Python are like first-class citizens. It means that functions have equal status with other objects in Python. Functions can be assigned to variables, stored in collections, or passed as arguments and This makes it very flexible."
   ]
  },
  {
   "cell_type": "markdown",
   "metadata": {},
   "source": [
    "**Question No. 2** When does the code in a function run: when it's specified or when it's called?"
   ]
  },
  {
   "cell_type": "markdown",
   "metadata": {},
   "source": [
    "**Answer**\n",
    "\n",
    "To run a code in any function we need to call to call the function.\n",
    "for ex- \n",
    "1. def Greetings():   (Create a function)\n",
    "      print(\"Hello Sir how are you...\")\n",
    "     \n",
    "2. Greetings()     (Call the function)"
   ]
  },
  {
   "cell_type": "markdown",
   "metadata": {},
   "source": [
    "**Question No. 3** What statement creates a function?"
   ]
  },
  {
   "cell_type": "markdown",
   "metadata": {},
   "source": [
    "**Answer**\n",
    "\n",
    "The “def” keyword is a statement for defining or creating a function in Python\n",
    "\n",
    "There are three types of functions in Python:\n",
    "\n",
    "1. Built-in functions, such as help() to ask for help, min() to get the minimum value, print() to print an object to the terminal.\n",
    "2. User-Defined Functions (UDFs), which are functions that users create to help them out; And\n",
    "3. Anonymous functions, which are also called lambda functions because they are not declared with the standard def keyword.\n",
    "\n"
   ]
  },
  {
   "cell_type": "markdown",
   "metadata": {},
   "source": [
    "**Question No.4** What is the difference between a function and a function call?"
   ]
  },
  {
   "cell_type": "markdown",
   "metadata": {},
   "source": [
    "**Answer**\n",
    "\n",
    "A function is a piece of reusable code block which enhances the reusability and modularity of the program. It means that piece of code need not be written again.\n",
    "A function call means invoking or calling that function. Unless a function is called there is no use of that functio\n",
    "\n",
    "For ex-\n",
    "1. def Hello():   (It is a function)\n",
    "      print(\"Hello Sir how are you...\")\n",
    "     \n",
    "2. Hello()     (It is function calling)"
   ]
  },
  {
   "cell_type": "markdown",
   "metadata": {},
   "source": [
    "**Question No. 5** How many global scopes are there in a Python program? How many local scopes? "
   ]
  },
  {
   "cell_type": "markdown",
   "metadata": {},
   "source": [
    "**Answer**\n",
    "\n",
    "1. Global scope: The names that you define in this scope are available to all your code. A Global Scope is a variable created in the main body of the Python code and It belongs to the global scope. Global variables are available from within any scope, global and local. There's only one global Python scope per program execution.\n",
    "\n",
    "2. Local scope: The names that you define in this scope are only available or visible to the code within the scope. Any variable which is created inside a function is local, if it hasn't been declared as a global variable. To tell Python, that we want to use the global variable, we have to explicitly state this by using the keyword \"global\". You can create as many local scopes as you require.\n",
    "\n",
    "For ex- \n",
    "\n",
    "1. Fruit = 'Apple' (Global Scope)\n",
    "  \n",
    "2. def Fruit(): \n",
    "     Fruit = 'Apple' (Local Scope)\n",
    "       print(Fruit) \n",
    "\n",
    "\n",
    "1. Fruit() \n",
    "2. print(Fruit) \n"
   ]
  },
  {
   "cell_type": "markdown",
   "metadata": {},
   "source": [
    "**Question No. 6** What happens to variables in a local scope when the function call returns?"
   ]
  },
  {
   "cell_type": "markdown",
   "metadata": {},
   "source": [
    "**Answer**\n",
    "\n",
    "A variable created in the local scoped will be a local variable unless it is mentioned to be Global. Any variable has some space in the memory. A pointer references that space. The space that local variables occupies is deallocated when the function call returns, meaning that it can and will be reused for other things."
   ]
  },
  {
   "cell_type": "markdown",
   "metadata": {},
   "source": [
    "**Question No. 7** What is the concept of a return value? Is it possible to have a return value in an expression?"
   ]
  },
  {
   "cell_type": "markdown",
   "metadata": {},
   "source": [
    "**Answer**\n",
    "\n",
    "The Python 'return' statement is a special statement that you can use inside a function or method to send the function’s result back to the caller. A return statement consists of the return keyword followed by an optional return value.\n",
    "The return value of a Python function can be any Python object. Everything in Python is an object. So, your functions can return numeric values (int, float, and complex values), collections and sequences of objects (list, tuple, dictionary, or set objects), user-defined objects, classes, functions, and even modules or packages. \n",
    "You can omit the return value of a function and use a bare return without a return value. You can also omit the entire return statement. In both cases, the return value will be None.\n",
    "If the return statement contains an expression, it’s evaluated first and then the value is returned. So, return value can have an epression also and in that case first expression is evaluated and then value is returned.\n",
    "\n",
    "for ex- \n",
    "1. >>> def return_100():\n",
    "         return 100  # An explicit return statement\n",
    "\n",
    "2. return_100()  # The caller \n",
    "     100\n",
    "     \n",
    "3. def add(x, y):\n",
    "    return x + y     "
   ]
  },
  {
   "cell_type": "markdown",
   "metadata": {},
   "source": [
    "**Question No. 8** if a function does not have a return statement, what is the return value of a call to that function?"
   ]
  },
  {
   "cell_type": "markdown",
   "metadata": {},
   "source": [
    "**Answer**\n",
    "\n",
    "If a function does not have a return statement then the return value will be 'None'."
   ]
  },
  {
   "cell_type": "markdown",
   "metadata": {},
   "source": [
    "**Question No. 9** How do you make a function variable refer to the global variable?"
   ]
  },
  {
   "cell_type": "markdown",
   "metadata": {},
   "source": [
    "**Answer**\n",
    "\n",
    " To tell Python, that we want to use local variable of the function as the global variable, we have to explicitly state this by using the keyword \"global\" with the variable.\n",
    " \n",
    "for ex-\n",
    "1. def myfunc():\n",
    "    global x\n",
    "     x = \"Marsrower\""
   ]
  },
  {
   "cell_type": "markdown",
   "metadata": {},
   "source": [
    "**Question No. 10** What is the data type of None?"
   ]
  },
  {
   "cell_type": "markdown",
   "metadata": {},
   "source": [
    "**Answer**\n",
    "\n",
    "It is a data type of the class 'NoneType' object. None is used to define the null value."
   ]
  },
  {
   "cell_type": "markdown",
   "metadata": {},
   "source": [
    "**Question No. 11** What does the sentence import areallyourpetsnamederic do?"
   ]
  },
  {
   "cell_type": "markdown",
   "metadata": {},
   "source": [
    "**Answer**\n",
    "\n",
    "Module contents are made available to the caller with the import statement. Note that this does not make the module contents directly accessible to the caller. Each module has its own private symbol table, which serves as the global symbol table for all objects defined in the module. So, a module creates a separate namespace. The statement import <module_name> only places <module_name> in the caller’s symbol table. The objects that are defined in the module remain in the module’s private symbol table. From the caller, objects in the module are only accessible when prefixed with <module_name> via dot notation, as you’ll see below.\n",
    "\n",
    "1. import areallyourpetsnamederic  (This is how you import a module)"
   ]
  },
  {
   "cell_type": "code",
   "execution_count": 1,
   "metadata": {
    "scrolled": false
   },
   "outputs": [
    {
     "ename": "ModuleNotFoundError",
     "evalue": "No module named 'areallyourpetsnamederic'",
     "output_type": "error",
     "traceback": [
      "\u001b[1;31m---------------------------------------------------------------------------\u001b[0m",
      "\u001b[1;31mModuleNotFoundError\u001b[0m                       Traceback (most recent call last)",
      "\u001b[1;32m<ipython-input-1-b1ea9cb2228f>\u001b[0m in \u001b[0;36m<module>\u001b[1;34m\u001b[0m\n\u001b[1;32m----> 1\u001b[1;33m \u001b[1;32mimport\u001b[0m \u001b[0mareallyourpetsnamederic\u001b[0m\u001b[1;33m\u001b[0m\u001b[1;33m\u001b[0m\u001b[0m\n\u001b[0m",
      "\u001b[1;31mModuleNotFoundError\u001b[0m: No module named 'areallyourpetsnamederic'"
     ]
    }
   ],
   "source": [
    "import areallyourpetsnamederic"
   ]
  },
  {
   "cell_type": "markdown",
   "metadata": {},
   "source": [
    "**Question No. 12** If you had a bacon() feature in a spam module, what would you call it after importing spam?"
   ]
  },
  {
   "cell_type": "markdown",
   "metadata": {},
   "source": [
    "**Answer**\n",
    "\n",
    "After importing spam module we will call it as follows:\n",
    "\n",
    "1. import spam\n",
    "\n",
    "    spam.bacon()"
   ]
  },
  {
   "cell_type": "markdown",
   "metadata": {},
   "source": [
    "**Question No. 13** What can you do to save a programme from crashing if it encounters an error?"
   ]
  },
  {
   "cell_type": "markdown",
   "metadata": {},
   "source": [
    "**Answer**\n",
    "\n",
    "In Python, we use the try and except statements to handle exceptions. Whenever the code breaks down, an exception is thrown without crashing the program. Python would process all code inside the try and except statement. When it encounters an error, the control is passed to the except block, skipping the code in between.\n",
    "\n",
    "for ex- \n",
    "1. def addNumbers(a, b):\n",
    "    try:\n",
    "        return a + b\n",
    "    except Exception as e:\n",
    "        return 'Error occurred : ' + str(e)\n",
    " "
   ]
  },
  {
   "cell_type": "markdown",
   "metadata": {},
   "source": [
    "**Question No. 14** What is the purpose of the try clause? What is the purpose of the except clause?"
   ]
  },
  {
   "cell_type": "markdown",
   "metadata": {},
   "source": [
    "**Answer**\n",
    "\n",
    "The try clause tests a block of code for errors and The except clause handles the error.\n",
    "\n",
    "for ex- \n",
    "1. try:\n",
    "     print(x)\n",
    "   except:\n",
    "     print(\"An exception occurred\")"
   ]
  },
  {
   "cell_type": "code",
   "execution_count": null,
   "metadata": {},
   "outputs": [],
   "source": []
  }
 ],
 "metadata": {
  "kernelspec": {
   "display_name": "Python 3",
   "language": "python",
   "name": "python3"
  },
  "language_info": {
   "codemirror_mode": {
    "name": "ipython",
    "version": 3
   },
   "file_extension": ".py",
   "mimetype": "text/x-python",
   "name": "python",
   "nbconvert_exporter": "python",
   "pygments_lexer": "ipython3",
   "version": "3.8.5"
  }
 },
 "nbformat": 4,
 "nbformat_minor": 4
}
