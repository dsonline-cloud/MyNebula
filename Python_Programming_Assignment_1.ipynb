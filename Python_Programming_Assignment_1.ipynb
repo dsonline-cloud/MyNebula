{
 "cells": [
  {
   "cell_type": "markdown",
   "metadata": {},
   "source": [
    "**Question No.1** Write a Python program to print \"Hello Python\"?"
   ]
  },
  {
   "cell_type": "code",
   "execution_count": 1,
   "metadata": {},
   "outputs": [
    {
     "name": "stdout",
     "output_type": "stream",
     "text": [
      "Hello Python\n"
     ]
    }
   ],
   "source": [
    "#**Ans**\n",
    "\n",
    "print(\"Hello Python\")"
   ]
  },
  {
   "cell_type": "markdown",
   "metadata": {},
   "source": [
    "**Question No.2** Write a Python program to do arithmetical operations addition and division.?"
   ]
  },
  {
   "cell_type": "code",
   "execution_count": 5,
   "metadata": {},
   "outputs": [
    {
     "name": "stdout",
     "output_type": "stream",
     "text": [
      "19\n",
      "1.375\n",
      "3\n"
     ]
    }
   ],
   "source": [
    "#**Ans**\n",
    "\n",
    "#Addition\n",
    "a= 11\n",
    "b= 8\n",
    "print(a+b)\n",
    "\n",
    "#Division\n",
    "print(a/b)\n",
    "\n",
    "#also\n",
    "\n",
    "print(a%b) #It gives the remainder."
   ]
  },
  {
   "cell_type": "markdown",
   "metadata": {},
   "source": [
    "**Question No.3** Write a Python program to find the area of a triangle?"
   ]
  },
  {
   "cell_type": "code",
   "execution_count": 9,
   "metadata": {},
   "outputs": [
    {
     "name": "stdout",
     "output_type": "stream",
     "text": [
      "Enter the base of triangle: 12.5\n",
      "Enter the height of triangle: 15.9\n",
      "Area of the triangle is:  99.375\n"
     ]
    }
   ],
   "source": [
    "#**Ans**\n",
    "\n",
    "#Area of triangle= b*h/2\n",
    "\n",
    "b= float(input(\"Enter the base of triangle: \"))\n",
    "h= float(input(\"Enter the height of triangle: \"))\n",
    "\n",
    "print(\"Area of the triangle is: \", b*h/2)"
   ]
  },
  {
   "cell_type": "markdown",
   "metadata": {},
   "source": [
    "**Question No.4** Write a Python program to swap two variables?"
   ]
  },
  {
   "cell_type": "code",
   "execution_count": 13,
   "metadata": {},
   "outputs": [
    {
     "name": "stdout",
     "output_type": "stream",
     "text": [
      "The value of x after swapping: 87\n",
      "The value of y after swapping: 99\n"
     ]
    }
   ],
   "source": [
    "#**Ans**\n",
    "\n",
    "# Python program to swap two variables are as follows:\n",
    "\n",
    "x = 99\n",
    "y = 87\n",
    "\n",
    "# create a temporary variable and swap the values. Here, Nothanks is the temprory variable.\n",
    "Nothanks = x\n",
    "x = y\n",
    "y = Nothanks\n",
    "\n",
    "print('The value of x after swapping: {}'.format(x))\n",
    "print('The value of y after swapping: {}'.format(y))\n",
    "\n",
    "# In this program, we are using the Nothanks variable to hold the value of x temporarily. \n",
    "# Then we put the value of y in x and later Nothanks in y. In this way, the values get exchanged."
   ]
  },
  {
   "cell_type": "markdown",
   "metadata": {},
   "source": [
    "**Question No.5** Write a Python program to generate a random number?"
   ]
  },
  {
   "cell_type": "code",
   "execution_count": 15,
   "metadata": {},
   "outputs": [
    {
     "name": "stdout",
     "output_type": "stream",
     "text": [
      "36\n"
     ]
    }
   ],
   "source": [
    "#**Ans**\n",
    "\n",
    "# importing the random module\n",
    "import random\n",
    "\n",
    "print(random.randint(0,99))"
   ]
  }
 ],
 "metadata": {
  "kernelspec": {
   "display_name": "Python 3",
   "language": "python",
   "name": "python3"
  },
  "language_info": {
   "codemirror_mode": {
    "name": "ipython",
    "version": 3
   },
   "file_extension": ".py",
   "mimetype": "text/x-python",
   "name": "python",
   "nbconvert_exporter": "python",
   "pygments_lexer": "ipython3",
   "version": "3.8.5"
  }
 },
 "nbformat": 4,
 "nbformat_minor": 4
}
