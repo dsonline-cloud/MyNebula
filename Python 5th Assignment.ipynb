{
 "cells": [
  {
   "cell_type": "markdown",
   "metadata": {},
   "source": [
    "**Question No.1** What does an empty dictionary's code look like?"
   ]
  },
  {
   "cell_type": "code",
   "execution_count": 5,
   "metadata": {},
   "outputs": [
    {
     "name": "stdout",
     "output_type": "stream",
     "text": [
      "{}\n",
      "{}\n"
     ]
    },
    {
     "data": {
      "text/plain": [
       "dict"
      ]
     },
     "execution_count": 5,
     "metadata": {},
     "output_type": "execute_result"
    }
   ],
   "source": [
    "#**Answer**\n",
    "\n",
    "#We can use two ways to create an empty dictionary:\n",
    "    \n",
    "emptyDict = {}\n",
    "print(emptyDict)\n",
    "\n",
    "#and\n",
    "\n",
    "emptyDict = dict()\n",
    "print(emptyDict)\n",
    "\n",
    "type(emptyDict)"
   ]
  },
  {
   "cell_type": "markdown",
   "metadata": {},
   "source": [
    "**Question No.2** What is the value of a dictionary value with the key 'foo' and the value 42?"
   ]
  },
  {
   "cell_type": "code",
   "execution_count": 9,
   "metadata": {
    "scrolled": true
   },
   "outputs": [
    {
     "data": {
      "text/plain": [
       "dict_values([42])"
      ]
     },
     "execution_count": 9,
     "metadata": {},
     "output_type": "execute_result"
    }
   ],
   "source": [
    "#**Answer**\n",
    "\n",
    "dictionary_value = {\n",
    "  \"foo\": 42,\n",
    "}\n",
    "\n",
    "dictionary_value.values()\n",
    "\n",
    "#The value is 42."
   ]
  },
  {
   "cell_type": "markdown",
   "metadata": {},
   "source": [
    "**Question No.3** What is the most significant distinction between a dictionary and a list?"
   ]
  },
  {
   "cell_type": "markdown",
   "metadata": {},
   "source": [
    "**Answer**\n",
    "\n",
    "List and dictionary are fundamentally different data structures . A list can store a sequence of objects in a certain order such that you can index into the list, or iterate over the list. Moreover, List is a mutable type meaning that lists can be modified after they have been created. Python dictionary is an implementation of a hash table and is a key-value store. It is not ordered and it requires that the keys are hashtable. Also, it is fast for lookups by key.\n",
    "\n",
    "Elements of list have the following characteristics:\n",
    "\n",
    "1. They maintain their ordering unless explicitly re-ordered (for example, by sorting the list).\n",
    "2. They can be of any type, and types can be mixed.\n",
    "3. They are accessed via numeric (zero based) indices\n",
    "\n",
    "Elements of Dictionary have the following characteristics:\n",
    "\n",
    "1. Every entry has a key and a value\n",
    "2. Ordering is not guaranteed\n",
    "3. Elements are accessed using key values\n",
    "4. Key values can be of any hashtable type (i.e. not a dict) and types can be mixed\n",
    "5. Values can be of any type (including other dict’s), and types can be mixed"
   ]
  },
  {
   "cell_type": "markdown",
   "metadata": {},
   "source": [
    "**Question No.4** What happens if you try to access spam['foo'] if spam is {'bar': 100}?"
   ]
  },
  {
   "cell_type": "code",
   "execution_count": 20,
   "metadata": {},
   "outputs": [
    {
     "ename": "KeyError",
     "evalue": "'foo'",
     "output_type": "error",
     "traceback": [
      "\u001b[1;31m---------------------------------------------------------------------------\u001b[0m",
      "\u001b[1;31mKeyError\u001b[0m                                  Traceback (most recent call last)",
      "\u001b[1;32m<ipython-input-20-1ea22de2da01>\u001b[0m in \u001b[0;36m<module>\u001b[1;34m\u001b[0m\n\u001b[0;32m      4\u001b[0m        'Games_of_Thrones': 'Lannisters'}\n\u001b[0;32m      5\u001b[0m \u001b[1;33m\u001b[0m\u001b[0m\n\u001b[1;32m----> 6\u001b[1;33m \u001b[0mspam\u001b[0m\u001b[1;33m[\u001b[0m\u001b[1;34m'foo'\u001b[0m\u001b[1;33m]\u001b[0m\u001b[1;33m\u001b[0m\u001b[1;33m\u001b[0m\u001b[0m\n\u001b[0m",
      "\u001b[1;31mKeyError\u001b[0m: 'foo'"
     ]
    }
   ],
   "source": [
    "#**Answer**\n",
    "\n",
    "spam = {'bar': 100,\n",
    "       'Games_of_Thrones': 'Lannisters'}\n",
    "\n",
    "spam['foo']\n",
    "\n",
    "#It will bring the key error."
   ]
  },
  {
   "cell_type": "markdown",
   "metadata": {},
   "source": [
    "**Question No.5** If a dictionary is stored in spam, what is the difference between the expressions 'cat' in spam and 'cat' in spam.keys()?"
   ]
  },
  {
   "cell_type": "code",
   "execution_count": 26,
   "metadata": {},
   "outputs": [
    {
     "data": {
      "text/plain": [
       "True"
      ]
     },
     "execution_count": 26,
     "metadata": {},
     "output_type": "execute_result"
    }
   ],
   "source": [
    "#**Answer**\n",
    "\n",
    "spam = {'cat':'cute',}\n",
    "\n",
    "#It checks whether there is a 'cat' key in the dictionary.\n",
    "'cat' in spam.keys()\n",
    "\n",
    "#It also checks whether there is a 'cat' key in the dictionary.\n",
    "'cat' in spam\n"
   ]
  },
  {
   "cell_type": "markdown",
   "metadata": {},
   "source": [
    "**Question No.6** If a dictionary is stored in spam, what is the difference between the expressions 'cat' in spam and 'cat' in spam.values()?"
   ]
  },
  {
   "cell_type": "code",
   "execution_count": 29,
   "metadata": {},
   "outputs": [
    {
     "data": {
      "text/plain": [
       "False"
      ]
     },
     "execution_count": 29,
     "metadata": {},
     "output_type": "execute_result"
    }
   ],
   "source": [
    "#**Answer**\n",
    "\n",
    "spam = {'cat':'cute',}\n",
    "\n",
    "#It checks whether there is a 'cat' key in the dictionary.\n",
    "'cat' in spam\n",
    "\n",
    "#It checks whether there is a value 'cat' for one of the keys in spam.\n",
    "'cat' in spam.values()"
   ]
  },
  {
   "cell_type": "markdown",
   "metadata": {},
   "source": [
    "**Question No.7** What is a shortcut for the following code?\n",
    "if 'color' not in spam:\n",
    "spam['color'] = 'black'\n"
   ]
  },
  {
   "cell_type": "code",
   "execution_count": 30,
   "metadata": {},
   "outputs": [
    {
     "name": "stdout",
     "output_type": "stream",
     "text": [
      "{'cat': 'cute', 'color': 'black'}\n"
     ]
    }
   ],
   "source": [
    "#**Answer**\n",
    "\n",
    "spam = {'cat':'cute',}\n",
    "spam.setdefault('color', 'black')\n",
    "\n",
    "print(spam)"
   ]
  },
  {
   "cell_type": "markdown",
   "metadata": {},
   "source": [
    "**Question No.8** How do you \"pretty print\" dictionary values using which module and function?"
   ]
  },
  {
   "cell_type": "markdown",
   "metadata": {},
   "source": [
    "**Answer**\n",
    "\n",
    "Use pprint() to Pretty Print a Dictionary in Python\n",
    "pprint is a Python module that provides the capability to pretty print Python data types to be more readable. This module also supports pretty-printing dictionary.\n",
    "\n",
    "Within the pprint module there is a function with the same name pprint(), which is the function used to pretty-print the given string or object.\n",
    "\n",
    "First, declare an array of dictionaries. Afterward, pretty print it using the function pprint.pprint().\n",
    "\n",
    "\n",
    "for ex- \n",
    "1. import pprint\n",
    "\n",
    "   dct_arr = [\n",
    "     {'Name': 'Arjuna', 'Age': '23', 'Country': 'India'},\n",
    "     {'Name': 'Vikramaditya', 'Age': '44', 'Country': 'India'},\n",
    "     {'Name': 'Raman', 'Age': '29', 'Country': 'India'},\n",
    "     {'Name': 'Lee', 'Age': '35', 'Country': 'Japan'}\n",
    "     ]\n",
    "\n",
    "    pprint.pprint(dct_arr)"
   ]
  },
  {
   "cell_type": "code",
   "execution_count": 37,
   "metadata": {},
   "outputs": [
    {
     "name": "stdout",
     "output_type": "stream",
     "text": [
      "[{'Age': '23', 'Country': 'India', 'Name': 'Arjuna'},\n",
      " {'Age': '44', 'Country': 'India', 'Name': 'Vikramaditya'},\n",
      " {'Age': '29', 'Country': 'India', 'Name': 'Raman'},\n",
      " {'Age': '35', 'Country': 'Japan', 'Name': 'Lee'}]\n"
     ]
    }
   ],
   "source": [
    "import pprint\n",
    "\n",
    "dct_arr = [\n",
    "{'Name': 'Arjuna', 'Age': '23', 'Country': 'India'},\n",
    "{'Name': 'Vikramaditya', 'Age': '44', 'Country': 'India'},\n",
    "{'Name': 'Raman', 'Age': '29', 'Country': 'India'},\n",
    "{'Name': 'Lee', 'Age': '35', 'Country': 'Japan'}\n",
    "]\n",
    "\n",
    "pprint.pprint(dct_arr)"
   ]
  },
  {
   "cell_type": "code",
   "execution_count": null,
   "metadata": {},
   "outputs": [],
   "source": []
  },
  {
   "cell_type": "code",
   "execution_count": null,
   "metadata": {},
   "outputs": [],
   "source": []
  }
 ],
 "metadata": {
  "kernelspec": {
   "display_name": "Python 3",
   "language": "python",
   "name": "python3"
  },
  "language_info": {
   "codemirror_mode": {
    "name": "ipython",
    "version": 3
   },
   "file_extension": ".py",
   "mimetype": "text/x-python",
   "name": "python",
   "nbconvert_exporter": "python",
   "pygments_lexer": "ipython3",
   "version": "3.8.5"
  }
 },
 "nbformat": 4,
 "nbformat_minor": 4
}
