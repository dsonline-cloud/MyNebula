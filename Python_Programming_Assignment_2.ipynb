{
 "cells": [
  {
   "cell_type": "markdown",
   "metadata": {},
   "source": [
    "**Question No.1** Write a Python program to convert kilometers to miles?"
   ]
  },
  {
   "cell_type": "code",
   "execution_count": 8,
   "metadata": {},
   "outputs": [
    {
     "name": "stdout",
     "output_type": "stream",
     "text": [
      "Enter value in kilometers: 10\n",
      "10.0 Kilometers is equal to 6.21371 miles.\n"
     ]
    }
   ],
   "source": [
    "# **Answer**\n",
    "\n",
    "# Take kilometers as input from the user.\n",
    "kilometers = float(input(\"Enter value in kilometers: \"))\n",
    "\n",
    "# As 1 Km= o.62 miles, we will create a conversion factor named factor.\n",
    "factor = 0.621371\n",
    "\n",
    "# calculate miles\n",
    "miles = kilometers * factor\n",
    "print(kilometers, 'Kilometers is equal to', miles, \"miles.\")"
   ]
  },
  {
   "cell_type": "markdown",
   "metadata": {},
   "source": [
    "**Question No.2** Write a Python program to convert Celsius to Fahrenheit?"
   ]
  },
  {
   "cell_type": "code",
   "execution_count": 10,
   "metadata": {},
   "outputs": [
    {
     "name": "stdout",
     "output_type": "stream",
     "text": [
      "40.0 degree Celsius is equal to 104.0 degree Fahrenheit\n"
     ]
    }
   ],
   "source": [
    "#**Ans**\n",
    "\n",
    "# Convert temperature in celsius to fahrenheit.\n",
    "\n",
    "# change this value of celcius into fahrenheit.\n",
    "celsius = 40\n",
    "\n",
    "# calculate fahrenheit\n",
    "fahrenheit = (celsius * 1.8) + 32\n",
    "print('%0.1f degree Celsius is equal to %0.1f degree Fahrenheit' %(celsius,fahrenheit))"
   ]
  },
  {
   "cell_type": "markdown",
   "metadata": {},
   "source": [
    "**Question No.3** Write a Python program to display calendar?"
   ]
  },
  {
   "cell_type": "code",
   "execution_count": 12,
   "metadata": {},
   "outputs": [
    {
     "name": "stdout",
     "output_type": "stream",
     "text": [
      "    January 2025\n",
      "Mo Tu We Th Fr Sa Su\n",
      "       1  2  3  4  5\n",
      " 6  7  8  9 10 11 12\n",
      "13 14 15 16 17 18 19\n",
      "20 21 22 23 24 25 26\n",
      "27 28 29 30 31\n",
      "\n"
     ]
    }
   ],
   "source": [
    "#**Answer**\n",
    "\n",
    "# Program to display calendar of the given month and .\n",
    "\n",
    "# importing calendar module.\n",
    "import calendar\n",
    "\n",
    "year = 2025  # year\n",
    "month = 1    # month\n",
    "\n",
    "# In case you want to take month and year input from the user.\n",
    "# year = int(input(\"Enter year: \"))\n",
    "# month = int(input(\"Enter month: \"))\n",
    "\n",
    "# display the calendar\n",
    "print(calendar.month(year, month))"
   ]
  },
  {
   "cell_type": "markdown",
   "metadata": {},
   "source": [
    "**Question No.4** Write a Python program to solve quadratic equation?"
   ]
  },
  {
   "cell_type": "code",
   "execution_count": 21,
   "metadata": {},
   "outputs": [
    {
     "name": "stdout",
     "output_type": "stream",
     "text": [
      "The solution are (-3+0j) and (-2+0j)\n"
     ]
    }
   ],
   "source": [
    "#**Answer**\n",
    "\n",
    "# Solve the quadratic equation ax**2 + bx + c = 0\n",
    "\n",
    "# import the complex math module.\n",
    "import cmath\n",
    "\n",
    "a = 10\n",
    "b = 50\n",
    "c = 60\n",
    "\n",
    "# To calculate the discriminant.\n",
    "d = (b**2) - (4*a*c)\n",
    "\n",
    "# find two solutions\n",
    "value1 = (-b-cmath.sqrt(d))/(2*a)\n",
    "value2 = (-b+cmath.sqrt(d))/(2*a)\n",
    "\n",
    "print('The solution are {} and {}'.format(value1,2))"
   ]
  },
  {
   "cell_type": "markdown",
   "metadata": {},
   "source": [
    "**Question No.5** Write a Python program to swap two variables without temp variable?"
   ]
  },
  {
   "cell_type": "code",
   "execution_count": 23,
   "metadata": {},
   "outputs": [
    {
     "name": "stdout",
     "output_type": "stream",
     "text": [
      "Superstar Rajnikant\n",
      "Rajnikant Superstar\n"
     ]
    }
   ],
   "source": [
    "#**Answer**\n",
    "\n",
    "a= \"Superstar\"\n",
    "b= \"Rajnikant\"\n",
    "\n",
    "print(a, b)\n",
    "\n",
    "#Swap the variables.\n",
    "\n",
    "a, b= b, a\n",
    "\n",
    "print(a, b)"
   ]
  }
 ],
 "metadata": {
  "kernelspec": {
   "display_name": "Python 3",
   "language": "python",
   "name": "python3"
  },
  "language_info": {
   "codemirror_mode": {
    "name": "ipython",
    "version": 3
   },
   "file_extension": ".py",
   "mimetype": "text/x-python",
   "name": "python",
   "nbconvert_exporter": "python",
   "pygments_lexer": "ipython3",
   "version": "3.8.5"
  }
 },
 "nbformat": 4,
 "nbformat_minor": 4
}
