{
 "cells": [
  {
   "cell_type": "markdown",
   "metadata": {},
   "source": [
    "**Question No.1** How do you distinguish between shutil.copy() and shutil.copytree()?"
   ]
  },
  {
   "cell_type": "markdown",
   "metadata": {},
   "source": [
    "**Answer**\n",
    "\n",
    "The shutil.copy() function will copy a single file while shutil.copytree()\n",
    "will copy an entire folder, along with all its contents."
   ]
  },
  {
   "cell_type": "markdown",
   "metadata": {},
   "source": [
    "**Question No.2** What function is used to rename files?"
   ]
  },
  {
   "cell_type": "markdown",
   "metadata": {},
   "source": [
    "**Answer**\n",
    "\n",
    "he shutil.move() function is used for renaming files."
   ]
  },
  {
   "cell_type": "markdown",
   "metadata": {},
   "source": [
    "**Question No.3** What is the difference between the delete functions in the send2trash and shutil modules?"
   ]
  },
  {
   "cell_type": "markdown",
   "metadata": {},
   "source": [
    "**Answer**\n",
    "\n",
    "The send2trash functions will move a file or folder to the recycle bin, \n",
    "while shutil functions will permanently delete files and folders."
   ]
  },
  {
   "cell_type": "markdown",
   "metadata": {},
   "source": [
    "**Question No.4** ZipFile objects have a close() method just like File objects’ close() method. What ZipFile method is equivalent to File objects’ open() method?"
   ]
  },
  {
   "cell_type": "markdown",
   "metadata": {},
   "source": [
    "**Answer**\n",
    "\n",
    "The zipfile.ZipFile() function is equivalent to the open() function; the \n",
    "first argument is the filename, and the second argument is the mode to \n",
    "open the ZIP file in (read, write, or append)."
   ]
  },
  {
   "cell_type": "markdown",
   "metadata": {},
   "source": [
    "**Question No.5** Create a programme that searches a folder tree for files with a certain file extension (such as .pdf or .jpg). Copy these files from whatever location they are in to a new folder."
   ]
  },
  {
   "cell_type": "code",
   "execution_count": 1,
   "metadata": {},
   "outputs": [
    {
     "name": "stdout",
     "output_type": "stream",
     "text": [
      "Enter the absolute filepath of the directory you wish to copy from: C:\\Users\\deepak singh\\Desktop\\Help Book\\Ineuron\\New ML\n",
      "Enter the extension you'd like to copy: .pdf\n",
      "Enter destination folder's absolute filepath: C:\\Users\\deepak singh\\Desktop\\Help Book\\Ineuron\\ML\n",
      "Selective copying has finished - all files of .pdf type have been copied from New ML to ML\n"
     ]
    }
   ],
   "source": [
    "#**Answer**\n",
    "\n",
    "import os\n",
    "import shutil\n",
    "\n",
    "\n",
    "folder = input('Enter the absolute filepath of the directory you wish to copy from: ')\n",
    "\n",
    "extension = input(\"Enter the extension you'd like to copy: \")\n",
    "\n",
    "destination = input(\"Enter destination folder's absolute filepath: \")\n",
    "\n",
    "for folders, subfolders, filenames in os.walk(folder):\n",
    "\n",
    "        for filename in filenames:\n",
    "\n",
    "            if filename.endswith('{}'.format(extension)):\n",
    "                shutil.copy(os.path.join(folders, filename), destination)\n",
    "\n",
    "print('Selective copying has finished - all files of', extension,\n",
    "      'type have been copied from', os.path.basename(folder), 'to',\n",
    "      os.path.basename(destination))"
   ]
  },
  {
   "cell_type": "code",
   "execution_count": null,
   "metadata": {},
   "outputs": [],
   "source": []
  },
  {
   "cell_type": "code",
   "execution_count": null,
   "metadata": {},
   "outputs": [],
   "source": []
  }
 ],
 "metadata": {
  "kernelspec": {
   "display_name": "Python 3",
   "language": "python",
   "name": "python3"
  },
  "language_info": {
   "codemirror_mode": {
    "name": "ipython",
    "version": 3
   },
   "file_extension": ".py",
   "mimetype": "text/x-python",
   "name": "python",
   "nbconvert_exporter": "python",
   "pygments_lexer": "ipython3",
   "version": "3.8.8"
  }
 },
 "nbformat": 4,
 "nbformat_minor": 4
}
