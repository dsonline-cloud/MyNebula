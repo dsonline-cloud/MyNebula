{
 "cells": [
  {
   "cell_type": "markdown",
   "metadata": {},
   "source": [
    "**Question No.1** Add the current date to the text file today.txt as a string."
   ]
  },
  {
   "cell_type": "code",
   "execution_count": 5,
   "metadata": {},
   "outputs": [],
   "source": [
    "#**Answer**\n",
    "\n",
    "from datetime import date\n",
    "now = date.today()\n",
    "now_str = now.isoformat()\n",
    "with open('today.txt', 'wt') as creation:\n",
    "    print(now_str, file=creation)\n"
   ]
  },
  {
   "cell_type": "markdown",
   "metadata": {},
   "source": [
    "**Question No.2** Read the text file today.txt into the string today_string?"
   ]
  },
  {
   "cell_type": "code",
   "execution_count": 8,
   "metadata": {},
   "outputs": [
    {
     "data": {
      "text/plain": [
       "'2021-04-08\\n'"
      ]
     },
     "execution_count": 8,
     "metadata": {},
     "output_type": "execute_result"
    }
   ],
   "source": [
    "#**Answer**\n",
    "\n",
    "with open('today.txt', 'rt') as date:\n",
    "   today_string = date.read()\n",
    "\n",
    "today_string\n"
   ]
  },
  {
   "cell_type": "markdown",
   "metadata": {},
   "source": [
    "**Question No.3** Parse the date from today_string."
   ]
  },
  {
   "cell_type": "code",
   "execution_count": 13,
   "metadata": {},
   "outputs": [
    {
     "data": {
      "text/plain": [
       "datetime.datetime(2021, 4, 8, 0, 0)"
      ]
     },
     "execution_count": 13,
     "metadata": {},
     "output_type": "execute_result"
    }
   ],
   "source": [
    "#**Answer**\n",
    "\n",
    "\n",
    "from datetime import datetime\n",
    "\n",
    "with open('today.txt', 'rt') as date:\n",
    "   today_string = date.read()\n",
    "\n",
    "today_string\n",
    "\n",
    "fmt = '%Y-%m-%d\\n'\n",
    "datetime.strptime(today_string, fmt)\n"
   ]
  },
  {
   "cell_type": "markdown",
   "metadata": {},
   "source": [
    "**Question No.4** List the files in your current directory?"
   ]
  },
  {
   "cell_type": "code",
   "execution_count": 22,
   "metadata": {
    "scrolled": true
   },
   "outputs": [
    {
     "data": {
      "text/plain": [
       "['.ipynb_checkpoints',\n",
       " 'Assignments',\n",
       " 'books.csv',\n",
       " 'books.db',\n",
       " 'Completed Assignments',\n",
       " 'test.txt',\n",
       " 'today.txt',\n",
       " 'Untitled.ipynb',\n",
       " 'Untitled1.ipynb',\n",
       " 'zoo.ipynb',\n",
       " 'zoo.py',\n",
       " '__pycache__',\n",
       " '~$signment_1.docx']"
      ]
     },
     "execution_count": 22,
     "metadata": {},
     "output_type": "execute_result"
    }
   ],
   "source": [
    "#**Answer**\n",
    "\n",
    "import os\n",
    "os.listdir('.')\n"
   ]
  },
  {
   "cell_type": "markdown",
   "metadata": {},
   "source": [
    "**Question No.5** Create a list of all of the files in your parent directory (minimum five files should be available)."
   ]
  },
  {
   "cell_type": "code",
   "execution_count": 19,
   "metadata": {},
   "outputs": [
    {
     "data": {
      "text/plain": [
       "['AI',\n",
       " 'Deep Learning',\n",
       " 'Machine Learning',\n",
       " 'Python Basic Assignment',\n",
       " 'Python Resources']"
      ]
     },
     "execution_count": 19,
     "metadata": {},
     "output_type": "execute_result"
    }
   ],
   "source": [
    "#**Answer**\n",
    "\n",
    "import os\n",
    "os.listdir('..')\n"
   ]
  },
  {
   "cell_type": "markdown",
   "metadata": {},
   "source": [
    "**Question No.6** Use multiprocessing to create three separate processes. Make each one wait a random number of seconds between one and five, print the current time, and then exit."
   ]
  },
  {
   "cell_type": "code",
   "execution_count": 54,
   "metadata": {},
   "outputs": [
    {
     "name": "stdout",
     "output_type": "stream",
     "text": [
      "wait 0.41167574554909536  seconds time is  2021-04-08 13:23:16.152056\n"
     ]
    }
   ],
   "source": [
    "#**Answer**\n",
    "\n",
    "import multiprocessing\n",
    "from datetime import datetime\n",
    "from time import sleep\n",
    "import random\n",
    "\n",
    "def now(seconds):\n",
    "    sleep(seconds)\n",
    "    print(\"wait\",seconds,\" seconds\",\"time is \",datetime.now())\n",
    "    \n",
    "if __name__ == \"__main__\":\n",
    "    for n in range(3):\n",
    "        seconds = random.random()\n",
    "        proc = multiprocessing.Process(target=now,args=(seconds,))\n",
    "        proc.start()\n",
    "        \n",
    "now(seconds)        "
   ]
  },
  {
   "cell_type": "markdown",
   "metadata": {},
   "source": [
    "**Question No.7** Create a date object of your day of birth?"
   ]
  },
  {
   "cell_type": "code",
   "execution_count": 50,
   "metadata": {
    "scrolled": true
   },
   "outputs": [
    {
     "data": {
      "text/plain": [
       "datetime.date(1983, 5, 19)"
      ]
     },
     "execution_count": 50,
     "metadata": {},
     "output_type": "execute_result"
    }
   ],
   "source": [
    "#**Answer**\n",
    "\n",
    "from datetime import date\n",
    "\n",
    "DOB = date(1983,5,19)\n",
    "\n",
    "DOB"
   ]
  },
  {
   "cell_type": "markdown",
   "metadata": {},
   "source": [
    "**Question No.8** What day of the week was your day of birth?"
   ]
  },
  {
   "cell_type": "code",
   "execution_count": 60,
   "metadata": {},
   "outputs": [
    {
     "data": {
      "text/plain": [
       "6"
      ]
     },
     "execution_count": 60,
     "metadata": {},
     "output_type": "execute_result"
    }
   ],
   "source": [
    "#**Answer**\n",
    "\n",
    "\n",
    "from datetime import date\n",
    "\n",
    "DOB = date(1994,7,10)\n",
    "\n",
    "DOB.weekday()"
   ]
  },
  {
   "cell_type": "markdown",
   "metadata": {},
   "source": [
    "**Question No.9** When will you be (or when were you) 10,000 days old?"
   ]
  },
  {
   "cell_type": "code",
   "execution_count": 61,
   "metadata": {},
   "outputs": [
    {
     "data": {
      "text/plain": [
       "datetime.date(2021, 11, 25)"
      ]
     },
     "execution_count": 61,
     "metadata": {},
     "output_type": "execute_result"
    }
   ],
   "source": [
    "#**Answer**\n",
    "\n",
    "from datetime import timedelta\n",
    "party_day = DOB + timedelta(days=10000)\n",
    "party_day\n"
   ]
  }
 ],
 "metadata": {
  "kernelspec": {
   "display_name": "Python 3",
   "language": "python",
   "name": "python3"
  },
  "language_info": {
   "codemirror_mode": {
    "name": "ipython",
    "version": 3
   },
   "file_extension": ".py",
   "mimetype": "text/x-python",
   "name": "python",
   "nbconvert_exporter": "python",
   "pygments_lexer": "ipython3",
   "version": "3.8.5"
  }
 },
 "nbformat": 4,
 "nbformat_minor": 4
}
